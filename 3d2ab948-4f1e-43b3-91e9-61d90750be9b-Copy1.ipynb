{
 "cells": [
  {
   "cell_type": "markdown",
   "metadata": {},
   "source": [
    "## E-commerce: Identificar os perfis dos consumidores"
   ]
  },
  {
   "cell_type": "markdown",
   "metadata": {},
   "source": [
    "### Segmente usuários com base em seus perfis de consumidor.\n",
    "\n",
    "- Realize a análise exploratória de dados.\n",
    "- Segmente os usuários com base no histórico de compras. Sinta-se à vontade para implementar suas próprias ideias para segmentar usuários. Pense em como a segmentação pode ajudar você a desenvolver ofertas mais personalizadas para diferentes usuários. Tente formar segmentos com base no que os usuários compram. Você pode analisar suas compras e segmentar as mercadorias de acordo com a categoria de produto a que pertencem.\n",
    "- Formule e teste hipóteses estatísticas."
   ]
  },
  {
   "cell_type": "markdown",
   "metadata": {},
   "source": [
    "Para trabalhar com os dados em questão, além de entender a demanda, e a necessidade, irei sugerir alguns procedimentos que poderão ser seguidos, até conseguirmos extrair insights para solução do problema:\n",
    "\n",
    "## 1º Parte: Entendendo a demanda e os dados\n",
    "\n",
    "#### Nesta primeira parte o principal objetivo é entender a demanda e verificar os dados, para isso, inicialmente teremos que:\n",
    "   - ler os arquivos - OK\n",
    "   - Visualização geral dos dados com métodos info(), describe(), shape() - OK\n",
    "   - Verificar e entender que tipo de dados estamos trabalhando, e se necessitam de algum ajuste de formato - OK\n",
    "   - Verificar se existem valores ausentes, - OK\n",
    "   - Verificar se existem duplicados (explicítos e implicítos), - OK\n",
    "   - Verificar o nome das colunas e se existem anômalias, como por exemplo iníciais maiúsculas e minúsculas da mesma palavra - OK\n",
    "   - Medidas e Ferramentas para tratar tais anômalias. - OK\n",
    "   - Verificar se existe mais algum dado inconsistente e que necessite de ajuste. - OK"
   ]
  },
  {
   "cell_type": "code",
   "execution_count": 141,
   "metadata": {},
   "outputs": [
    {
     "name": "stdout",
     "output_type": "stream",
     "text": [
      "  InvoiceNo StockCode                          Description  Quantity  \\\n",
      "0    536365    85123A   WHITE HANGING HEART T-LIGHT HOLDER         6   \n",
      "1    536365     71053                  WHITE METAL LANTERN         6   \n",
      "2    536365    84406B       CREAM CUPID HEARTS COAT HANGER         8   \n",
      "3    536365    84029G  KNITTED UNION FLAG HOT WATER BOTTLE         6   \n",
      "4    536365    84029E       RED WOOLLY HOTTIE WHITE HEART.         6   \n",
      "\n",
      "        InvoiceDate  UnitPrice  CustomerID  \n",
      "0  11/29/2018 08:26       2.55     17850.0  \n",
      "1  11/29/2018 08:26       3.39     17850.0  \n",
      "2  11/29/2018 08:26       2.75     17850.0  \n",
      "3  11/29/2018 08:26       3.39     17850.0  \n",
      "4  11/29/2018 08:26       3.39     17850.0  \n"
     ]
    }
   ],
   "source": [
    "# lendo os arquivos:\n",
    "import pandas as pd\n",
    "ecommerce = pd.read_csv('/datasets/ecommerce_dataset_us.csv', sep='\\t')\n",
    "print(ecommerce.head())"
   ]
  },
  {
   "cell_type": "code",
   "execution_count": 142,
   "metadata": {},
   "outputs": [
    {
     "name": "stdout",
     "output_type": "stream",
     "text": [
      "(541909, 7)\n"
     ]
    }
   ],
   "source": [
    "print(ecommerce.shape)"
   ]
  },
  {
   "cell_type": "code",
   "execution_count": 143,
   "metadata": {},
   "outputs": [
    {
     "name": "stdout",
     "output_type": "stream",
     "text": [
      "<class 'pandas.core.frame.DataFrame'>\n",
      "RangeIndex: 541909 entries, 0 to 541908\n",
      "Data columns (total 7 columns):\n",
      " #   Column       Non-Null Count   Dtype  \n",
      "---  ------       --------------   -----  \n",
      " 0   InvoiceNo    541909 non-null  object \n",
      " 1   StockCode    541909 non-null  object \n",
      " 2   Description  540455 non-null  object \n",
      " 3   Quantity     541909 non-null  int64  \n",
      " 4   InvoiceDate  541909 non-null  object \n",
      " 5   UnitPrice    541909 non-null  float64\n",
      " 6   CustomerID   406829 non-null  float64\n",
      "dtypes: float64(2), int64(1), object(4)\n",
      "memory usage: 28.9+ MB\n"
     ]
    }
   ],
   "source": [
    "ecommerce.info()"
   ]
  },
  {
   "cell_type": "markdown",
   "metadata": {},
   "source": [
    "<div class=\"alert alert-block alert-info\">\n",
    "<b>Resposta do Aluno:Foram colocados comentários no final da etapa, nesse caso é possível visualizar todas as colunas do dataframe, podemos ver a quantidade de valores não nulos em cada coluna, e também o Dtype de cada coluna, no decorrer do projeto verá que algumas colunas foram transformadas para atender a necessidade da análise, e também foram tratados os valores nulos que estão nas colunas 'CustumerID' e 'Description'.  </b> <a class=\"tocSkip\"></a>\n",
    "</div>"
   ]
  },
  {
   "cell_type": "code",
   "execution_count": 144,
   "metadata": {},
   "outputs": [
    {
     "data": {
      "text/html": [
       "<div>\n",
       "<style scoped>\n",
       "    .dataframe tbody tr th:only-of-type {\n",
       "        vertical-align: middle;\n",
       "    }\n",
       "\n",
       "    .dataframe tbody tr th {\n",
       "        vertical-align: top;\n",
       "    }\n",
       "\n",
       "    .dataframe thead th {\n",
       "        text-align: right;\n",
       "    }\n",
       "</style>\n",
       "<table border=\"1\" class=\"dataframe\">\n",
       "  <thead>\n",
       "    <tr style=\"text-align: right;\">\n",
       "      <th></th>\n",
       "      <th>Quantity</th>\n",
       "      <th>UnitPrice</th>\n",
       "      <th>CustomerID</th>\n",
       "    </tr>\n",
       "  </thead>\n",
       "  <tbody>\n",
       "    <tr>\n",
       "      <th>count</th>\n",
       "      <td>541909.000000</td>\n",
       "      <td>541909.000000</td>\n",
       "      <td>406829.000000</td>\n",
       "    </tr>\n",
       "    <tr>\n",
       "      <th>mean</th>\n",
       "      <td>9.552250</td>\n",
       "      <td>4.611114</td>\n",
       "      <td>15287.690570</td>\n",
       "    </tr>\n",
       "    <tr>\n",
       "      <th>std</th>\n",
       "      <td>218.081158</td>\n",
       "      <td>96.759853</td>\n",
       "      <td>1713.600303</td>\n",
       "    </tr>\n",
       "    <tr>\n",
       "      <th>min</th>\n",
       "      <td>-80995.000000</td>\n",
       "      <td>-11062.060000</td>\n",
       "      <td>12346.000000</td>\n",
       "    </tr>\n",
       "    <tr>\n",
       "      <th>25%</th>\n",
       "      <td>1.000000</td>\n",
       "      <td>1.250000</td>\n",
       "      <td>13953.000000</td>\n",
       "    </tr>\n",
       "    <tr>\n",
       "      <th>50%</th>\n",
       "      <td>3.000000</td>\n",
       "      <td>2.080000</td>\n",
       "      <td>15152.000000</td>\n",
       "    </tr>\n",
       "    <tr>\n",
       "      <th>75%</th>\n",
       "      <td>10.000000</td>\n",
       "      <td>4.130000</td>\n",
       "      <td>16791.000000</td>\n",
       "    </tr>\n",
       "    <tr>\n",
       "      <th>max</th>\n",
       "      <td>80995.000000</td>\n",
       "      <td>38970.000000</td>\n",
       "      <td>18287.000000</td>\n",
       "    </tr>\n",
       "  </tbody>\n",
       "</table>\n",
       "</div>"
      ],
      "text/plain": [
       "            Quantity      UnitPrice     CustomerID\n",
       "count  541909.000000  541909.000000  406829.000000\n",
       "mean        9.552250       4.611114   15287.690570\n",
       "std       218.081158      96.759853    1713.600303\n",
       "min    -80995.000000  -11062.060000   12346.000000\n",
       "25%         1.000000       1.250000   13953.000000\n",
       "50%         3.000000       2.080000   15152.000000\n",
       "75%        10.000000       4.130000   16791.000000\n",
       "max     80995.000000   38970.000000   18287.000000"
      ]
     },
     "execution_count": 144,
     "metadata": {},
     "output_type": "execute_result"
    }
   ],
   "source": [
    "ecommerce.describe()"
   ]
  },
  {
   "cell_type": "markdown",
   "metadata": {},
   "source": [
    "<div class=\"alert alert-block alert-info\">\n",
    "<b>Resposta do Aluno:  Este método esta mostrando previamente um resumo de todas as colunas 'númericas' do dataframe, vemos valores máximos, mínimos e as médias para ter noção da proporção dos dados, lembrando que nesse caso nem tudo pode ser levado em consideração visto que a coluna 'CustomerID' não tem lógica, visto que são números identificadores, no decorrer do projeto verá que a mesma será transformada em string para poder ser melhor aproveitada.</b> <a class=\"tocSkip\"></a>\n",
    "</div>"
   ]
  },
  {
   "cell_type": "code",
   "execution_count": 145,
   "metadata": {},
   "outputs": [
    {
     "name": "stdout",
     "output_type": "stream",
     "text": [
      "  invoiceno stockcode                         description  quantity  \\\n",
      "0    536365    85123A  WHITE HANGING HEART T-LIGHT HOLDER         6   \n",
      "1    536365     71053                 WHITE METAL LANTERN         6   \n",
      "\n",
      "        invoicedate  unitprice  customerid  \n",
      "0  11/29/2018 08:26       2.55     17850.0  \n",
      "1  11/29/2018 08:26       3.39     17850.0  \n",
      "\n",
      "  invoiceno stockcode                         description  quantity  \\\n",
      "0    536365    85123A  white hanging heart t-light holder         6   \n",
      "1    536365     71053                 white metal lantern         6   \n",
      "\n",
      "        invoicedate  unitprice  customerid  \n",
      "0  11/29/2018 08:26       2.55     17850.0  \n",
      "1  11/29/2018 08:26       3.39     17850.0  \n"
     ]
    }
   ],
   "source": [
    "# Padronizando as colunas e os nomes com o método lower():\n",
    "\n",
    "ecommerce.columns = ecommerce.columns.str.lower()\n",
    "print(ecommerce.head(2))\n",
    "print()\n",
    "ecommerce['description'] = ecommerce['description'].str.lower()\n",
    "print(ecommerce.head(2))"
   ]
  },
  {
   "cell_type": "code",
   "execution_count": 146,
   "metadata": {},
   "outputs": [],
   "source": [
    "# transformando os dados em datetime\n",
    "\n",
    "ecommerce['invoicedate'] = pd.to_datetime(ecommerce['invoicedate'])"
   ]
  },
  {
   "cell_type": "code",
   "execution_count": 147,
   "metadata": {},
   "outputs": [
    {
     "name": "stdout",
     "output_type": "stream",
     "text": [
      "<class 'pandas.core.frame.DataFrame'>\n",
      "RangeIndex: 541909 entries, 0 to 541908\n",
      "Data columns (total 7 columns):\n",
      " #   Column       Non-Null Count   Dtype         \n",
      "---  ------       --------------   -----         \n",
      " 0   invoiceno    541909 non-null  object        \n",
      " 1   stockcode    541909 non-null  object        \n",
      " 2   description  540455 non-null  object        \n",
      " 3   quantity     541909 non-null  int64         \n",
      " 4   invoicedate  541909 non-null  datetime64[ns]\n",
      " 5   unitprice    541909 non-null  float64       \n",
      " 6   customerid   406829 non-null  float64       \n",
      "dtypes: datetime64[ns](1), float64(2), int64(1), object(3)\n",
      "memory usage: 28.9+ MB\n"
     ]
    }
   ],
   "source": [
    "ecommerce.info()"
   ]
  },
  {
   "cell_type": "markdown",
   "metadata": {},
   "source": [
    "<div class=\"alert alert-block alert-info\">\n",
    "<b>Resposta do Aluno: Estou conferindo o Dtype da coluna 'invoicedate', na linha de código acima a mesma foi transformada para datetime, anteriormente estava como type 'object'.  </b> <a class=\"tocSkip\"></a>\n",
    "</div>"
   ]
  },
  {
   "cell_type": "code",
   "execution_count": 148,
   "metadata": {},
   "outputs": [
    {
     "name": "stdout",
     "output_type": "stream",
     "text": [
      "1454\n",
      "135080\n"
     ]
    }
   ],
   "source": [
    "# verificando os valores ausentes:\n",
    "\n",
    "print(ecommerce['description'].isna().sum())\n",
    "\n",
    "print(ecommerce['customerid'].isna().sum())"
   ]
  },
  {
   "cell_type": "markdown",
   "metadata": {},
   "source": [
    "<div class=\"alert alert-block alert-info\">\n",
    "<b>Resposta do Aluno: Foi utilizado a combinação dos métodos isna, e sum para ver a quantidade de valores nulos.. podemos concluir que existe uma quantidade considerável de valores nulos na coluna 'customerid'. </b> <a class=\"tocSkip\"></a>\n",
    "</div>"
   ]
  },
  {
   "cell_type": "code",
   "execution_count": 149,
   "metadata": {},
   "outputs": [
    {
     "name": "stdout",
     "output_type": "stream",
     "text": [
      "       invoiceno stockcode                        description  quantity  \\\n",
      "517       536409     21866        union jack flag luggage tag         1   \n",
      "527       536409     22866      hand warmer scotty dog design         1   \n",
      "537       536409     22900    set 2 tea towels i love london          1   \n",
      "539       536409     22111       scottie dog hot water bottle         1   \n",
      "555       536412     22327  round snack boxes set of 4 skulls         1   \n",
      "...          ...       ...                                ...       ...   \n",
      "541675    581538     22068        black pirate treasure chest         1   \n",
      "541689    581538     23318     box of 6 mini vintage crackers         1   \n",
      "541692    581538     22992             revolver wooden ruler          1   \n",
      "541699    581538     22694                       wicker star          1   \n",
      "541701    581538     23343       jumbo bag vintage christmas          1   \n",
      "\n",
      "               invoicedate  unitprice  customerid  \n",
      "517    2018-11-29 11:45:00       1.25     17908.0  \n",
      "527    2018-11-29 11:45:00       2.10     17908.0  \n",
      "537    2018-11-29 11:45:00       2.95     17908.0  \n",
      "539    2018-11-29 11:45:00       4.95     17908.0  \n",
      "555    2018-11-29 11:49:00       2.95     17920.0  \n",
      "...                    ...        ...         ...  \n",
      "541675 2019-12-07 11:34:00       0.39     14446.0  \n",
      "541689 2019-12-07 11:34:00       2.49     14446.0  \n",
      "541692 2019-12-07 11:34:00       1.95     14446.0  \n",
      "541699 2019-12-07 11:34:00       2.10     14446.0  \n",
      "541701 2019-12-07 11:34:00       2.08     14446.0  \n",
      "\n",
      "[5268 rows x 7 columns]\n"
     ]
    }
   ],
   "source": [
    "# verificando as linhas totalmente duplicadas.\n",
    "print(ecommerce[ecommerce.duplicated()])"
   ]
  },
  {
   "cell_type": "markdown",
   "metadata": {},
   "source": [
    "<div class=\"alert alert-block alert-info\">\n",
    "<b>Resposta do Aluno: Foi utilizado o método duplicated para visualizar todas as linhas 100% duplicadas, ou seja mesmo número de pedido, mesmo horário de compra, mesmo cliente, etc... ao todo foram identificadas 5268 linhas totalmente duplicadas, que se não tratadas, poderam influenciar negativamente a análise.   </b> <a class=\"tocSkip\"></a>\n",
    "</div>"
   ]
  },
  {
   "cell_type": "code",
   "execution_count": 150,
   "metadata": {},
   "outputs": [],
   "source": [
    "# eliminando linhas totalmente duplicadas:\n",
    "\n",
    "ecommerce = ecommerce.drop_duplicates()"
   ]
  },
  {
   "cell_type": "code",
   "execution_count": 151,
   "metadata": {},
   "outputs": [
    {
     "name": "stdout",
     "output_type": "stream",
     "text": [
      "0\n"
     ]
    }
   ],
   "source": [
    "print(ecommerce.duplicated().sum())"
   ]
  },
  {
   "cell_type": "code",
   "execution_count": 152,
   "metadata": {},
   "outputs": [
    {
     "name": "stdout",
     "output_type": "stream",
     "text": [
      "  invoiceno stockcode                          description  quantity  \\\n",
      "0    536365    85123A   white hanging heart t-light holder         6   \n",
      "1    536365     71053                  white metal lantern         6   \n",
      "2    536365    84406B       cream cupid hearts coat hanger         8   \n",
      "3    536365    84029G  knitted union flag hot water bottle         6   \n",
      "4    536365    84029E       red woolly hottie white heart.         6   \n",
      "\n",
      "          invoicedate  unitprice  customerid  \n",
      "0 2018-11-29 08:26:00       2.55       17850  \n",
      "1 2018-11-29 08:26:00       3.39       17850  \n",
      "2 2018-11-29 08:26:00       2.75       17850  \n",
      "3 2018-11-29 08:26:00       3.39       17850  \n",
      "4 2018-11-29 08:26:00       3.39       17850  \n"
     ]
    }
   ],
   "source": [
    "# transformando dados float em int:\n",
    "\n",
    "# substituindo Nan's:\n",
    "ecommerce['customerid'] = ecommerce['customerid'].fillna(0)  # Substituir nulos por 0\n",
    "\n",
    "\n",
    "ecommerce['customerid'] = ecommerce['customerid'].astype(int)\n",
    "print(ecommerce.head())"
   ]
  },
  {
   "cell_type": "markdown",
   "metadata": {},
   "source": [
    "#### Resposta do aluno:\n",
    "\n",
    "*foram identificados dados ausentes nas colunas 'Description' e 'CustomerId', além da necessidade de transformar os dados da coluna 'InvoiceDate' para datetime, e tambem a padronização com método str.lower nos dados da coluna 'Description', linhas totalmente duplicadas identificadas e eliminadas do dataframe., tambem foi ajustado os dados da coluna 'customerid'*"
   ]
  },
  {
   "cell_type": "markdown",
   "metadata": {},
   "source": [
    "### 2º Parte: Realizando a Análise Exploratória dos Dados:\n",
    "\n",
    "#### Como o objetivo é entender e identificar o perfil dos consumidores, podemos explorar alguns dados:\n",
    "##### Para Análise Temporal:\n",
    "- Limpar os dados e identificar outliers que possam distorcer a análise. - OK\n",
    "- Verificar se existem clientes inativos. - OK\n",
    "- Identificar usuários que não realizaram compras recentes para entender o comportamento geral dos clientes. - OK\n",
    "- Verificar a frequência de compras dos clientes. - OK\n",
    "- Analisar quantas vezes os clientes compram para categorizar comportamentos. - OK\n",
    "- Descobrir o período das compras por cliente. - OK\n",
    "- Entender os ciclos de compra para identificar padrões sazonais ou temporais. - OK\n",
    "- Descobrir o intervalo de compra entre pedidos do mesmo cliente.- OK\n",
    "- Determinar a consistência ou irregularidade nas compras dos clientes.- OK"
   ]
  },
  {
   "cell_type": "code",
   "execution_count": 153,
   "metadata": {},
   "outputs": [
    {
     "name": "stdout",
     "output_type": "stream",
     "text": [
      "2018-11-29 08:26:00\n",
      "2019-12-07 12:50:00\n"
     ]
    }
   ],
   "source": [
    "# Verificando o período de compras dos clientes:\n",
    "\n",
    "print(ecommerce['invoicedate'].min())\n",
    "print(ecommerce['invoicedate'].max())"
   ]
  },
  {
   "cell_type": "code",
   "execution_count": 154,
   "metadata": {},
   "outputs": [
    {
     "name": "stdout",
     "output_type": "stream",
     "text": [
      "customerid\n",
      "0        135037\n",
      "12346         2\n",
      "12347       182\n",
      "12348        31\n",
      "12349        73\n",
      "          ...  \n",
      "18280        10\n",
      "18281         7\n",
      "18282        13\n",
      "18283       721\n",
      "18287        70\n",
      "Name: invoiceno, Length: 4373, dtype: int64\n"
     ]
    }
   ],
   "source": [
    "# Verificando os pedidos por clientes:\n",
    "\n",
    "print(ecommerce.groupby('customerid')['invoiceno'].count())"
   ]
  },
  {
   "cell_type": "markdown",
   "metadata": {},
   "source": [
    "<div class=\"alert alert-block alert-info\">\n",
    "<b>Resposta do Aluno: Código útil, porque agrupa os dados por código de usuário, e confirma os valores NaN que foram substituídos por 0 (zero) anteriormente.  </b> <a class=\"tocSkip\"></a>\n",
    "</div>"
   ]
  },
  {
   "cell_type": "code",
   "execution_count": 155,
   "metadata": {
    "scrolled": true
   },
   "outputs": [
    {
     "name": "stdout",
     "output_type": "stream",
     "text": [
      "customerid\n",
      "12346      2\n",
      "12347    182\n",
      "12348     31\n",
      "12349     73\n",
      "12350     17\n",
      "        ... \n",
      "18280     10\n",
      "18281      7\n",
      "18282     13\n",
      "18283    721\n",
      "18287     70\n",
      "Name: invoiceno, Length: 4372, dtype: int64\n"
     ]
    }
   ],
   "source": [
    "# Eliminando Discrepâncias, eliminando usuários '0' (Não identificados) ou Inativos, para não influenciar a análise:\n",
    "\n",
    "ecommerce = ecommerce[ecommerce['customerid'] != 0]\n",
    "\n",
    "# Verificando os dados\n",
    "print(ecommerce.groupby('customerid')['invoiceno'].count())\n"
   ]
  },
  {
   "cell_type": "code",
   "execution_count": 156,
   "metadata": {},
   "outputs": [
    {
     "name": "stdout",
     "output_type": "stream",
     "text": [
      "           invoiceno         invoicedate                            date_range\n",
      "               count                 min                 max                  \n",
      "customerid                                                                    \n",
      "12346              2 2019-01-16 10:01:00 2019-01-16 10:17:00   0 days 00:16:00\n",
      "12347            182 2018-12-05 14:57:00 2019-12-05 15:52:00 365 days 00:55:00\n",
      "12348             31 2018-12-14 19:09:00 2019-09-23 13:13:00 282 days 18:04:00\n",
      "12349             73 2019-11-19 09:51:00 2019-11-19 09:51:00   0 days 00:00:00\n",
      "12350             17 2019-01-31 16:01:00 2019-01-31 16:01:00   0 days 00:00:00\n"
     ]
    }
   ],
   "source": [
    "# Verificando pedidos por cliente juntamente com as datas do primeiros e ultimos pedidos:\n",
    "\n",
    "customer_order = ecommerce.groupby('customerid').agg({\n",
    "    'invoiceno': 'count', \n",
    "    'invoicedate': ['min', 'max']\n",
    "})\n",
    "\n",
    "# Verificando os dias contados entre ambas as datas, para verificar a data da ultima compra e intervalo\n",
    "customer_order['date_range'] = customer_order[('invoicedate', 'max')] - customer_order[('invoicedate', 'min')]\n",
    "\n",
    "print(customer_order.head())"
   ]
  },
  {
   "cell_type": "code",
   "execution_count": 157,
   "metadata": {},
   "outputs": [
    {
     "name": "stdout",
     "output_type": "stream",
     "text": [
      "customerid\n",
      "17752       1\n",
      "13270       1\n",
      "15668       1\n",
      "18113       1\n",
      "15657       1\n",
      "         ... \n",
      "14606    2759\n",
      "12748    4459\n",
      "14096    5128\n",
      "14911    5898\n",
      "17841    7812\n",
      "Name: invoiceno, Length: 4372, dtype: int64\n",
      "91.85818847209515\n"
     ]
    }
   ],
   "source": [
    "# Dividindo os clientes com maiores frequencias.\n",
    "\n",
    "customer_qtd = ecommerce.groupby('customerid')['invoiceno'].count()\n",
    "print(customer_qtd.sort_values(ascending=True))\n",
    "\n",
    "# Verificando a média\n",
    "print(customer_qtd.mean())"
   ]
  },
  {
   "cell_type": "code",
   "execution_count": 158,
   "metadata": {},
   "outputs": [
    {
     "name": "stdout",
     "output_type": "stream",
     "text": [
      "  invoiceno stockcode                          description  quantity  \\\n",
      "0    536365    85123A   white hanging heart t-light holder         6   \n",
      "1    536365     71053                  white metal lantern         6   \n",
      "2    536365    84406B       cream cupid hearts coat hanger         8   \n",
      "3    536365    84029G  knitted union flag hot water bottle         6   \n",
      "4    536365    84029E       red woolly hottie white heart.         6   \n",
      "\n",
      "          invoicedate  unitprice  customerid  costumer_total customer_rank  \n",
      "0 2018-11-29 08:26:00       2.55       17850             309   medium freq  \n",
      "1 2018-11-29 08:26:00       3.39       17850             309   medium freq  \n",
      "2 2018-11-29 08:26:00       2.75       17850             309   medium freq  \n",
      "3 2018-11-29 08:26:00       3.39       17850             309   medium freq  \n",
      "4 2018-11-29 08:26:00       3.39       17850             309   medium freq  \n",
      "\n",
      "Quantidade de clientes em cada nível (frequência de pedidos):\n",
      "medium freq        240131\n",
      "litle freq.         60449\n",
      "very litle freq     51122\n",
      "Top freq            30619\n",
      "high freq           19283\n",
      "Name: customer_rank, dtype: int64\n"
     ]
    }
   ],
   "source": [
    "import numpy as np\n",
    "\n",
    "# Somando a quantidade total de pedidos por cliente\n",
    "ecommerce['costumer_total'] = ecommerce.groupby('customerid')['invoiceno'].transform('count')\n",
    "\n",
    "conditions = [\n",
    "    ecommerce['costumer_total'] < 50,\n",
    "    (ecommerce['costumer_total'] >= 50) & (ecommerce['costumer_total'] < 100),\n",
    "    (ecommerce['costumer_total'] >= 100) & (ecommerce['costumer_total'] < 1000),\n",
    "    (ecommerce['costumer_total'] >= 1000) & (ecommerce['costumer_total'] < 2000),\n",
    "    ecommerce['costumer_total'] >= 2000\n",
    "]\n",
    "\n",
    "# Definindo os valores correspondentes às condições\n",
    "categories = ['very litle freq', 'litle freq.', 'medium freq', 'high freq', 'Top freq']\n",
    "\n",
    "# Criando a coluna de ranking para classificar os clientes\n",
    "ecommerce['customer_rank'] = np.select(conditions, categories, default='Sem Categoria')\n",
    "print(ecommerce.head())\n",
    "print()\n",
    "\n",
    "# Verificando a quantidade de clientes em cada nível:\n",
    "print('Quantidade de clientes em cada nível (frequência de pedidos):')\n",
    "print(ecommerce['customer_rank'].value_counts())"
   ]
  },
  {
   "cell_type": "code",
   "execution_count": 159,
   "metadata": {},
   "outputs": [
    {
     "data": {
      "image/png": "[encoded data removed]",
      "text/plain": [
       "<Figure size 600x600 with 1 Axes>"
      ]
     },
     "metadata": {},
     "output_type": "display_data"
    }
   ],
   "source": [
    "# Realizando um gráfico \n",
    "\n",
    "import matplotlib.pyplot as plt\n",
    "\n",
    "ecommerce_date = ecommerce.groupby('invoicedate')['invoiceno'].count()\n",
    "\n",
    "plt.figure(figsize=(6, 6))\n",
    "plt.plot(ecommerce_date.index, ecommerce_date.values)\n",
    "plt.xlabel('Data dos pedidos')\n",
    "plt.ylabel('Quantidade de pedidos')\n",
    "plt.title('Quantidade de pedidos por período')\n",
    "plt.xticks(rotation=45)\n",
    "plt.show()"
   ]
  },
  {
   "cell_type": "markdown",
   "metadata": {},
   "source": [
    "#### Resposta do aluno:\n",
    "*Com o gráfico acima podemos perceber o consumo durante o período, valores atípicos já foram eliminados para não interferir no estudo, e tambem podemos perceber sazonalidade*"
   ]
  },
  {
   "cell_type": "markdown",
   "metadata": {},
   "source": [
    "##### Para Análise Relacionada ao Produto:\n",
    "- Verificar quais produtos são os mais vendidos e quais são os menos vendidos. - OK\n",
    "- Analisar a performance de produtos para começar a identificar categorias relevantes. - OK\n",
    "- Valor total por cliente. - OK\n",
    "- Calcular o total gasto por cliente para entender a contribuição financeira de cada grupo. - OK"
   ]
  },
  {
   "cell_type": "code",
   "execution_count": 160,
   "metadata": {},
   "outputs": [
    {
     "name": "stdout",
     "output_type": "stream",
     "text": [
      "white hanging heart t-light holder     2058\n",
      "regency cakestand 3 tier               1894\n",
      "jumbo bag red retrospot                1659\n",
      "party bunting                          1409\n",
      "assorted colour bird ornament          1405\n",
      "                                       ... \n",
      "silver/crystal drop earrings w leaf       1\n",
      "doorknob ceramic ivory                    1\n",
      "orange flower mug                         1\n",
      "heavens scent fragrance oils asstd        1\n",
      "ruby glass cluster necklace               1\n",
      "Name: description, Length: 3896, dtype: int64\n"
     ]
    }
   ],
   "source": [
    "# Verificando os itens mais vendidos:\n",
    "print(ecommerce['description'].value_counts())"
   ]
  },
  {
   "cell_type": "code",
   "execution_count": 161,
   "metadata": {},
   "outputs": [
    {
     "name": "stdout",
     "output_type": "stream",
     "text": [
      "description\n",
      "regency cakestand 3 tier              132567.70\n",
      "white hanging heart t-light holder     93767.80\n",
      "jumbo bag red retrospot                83056.52\n",
      "party bunting                          67628.43\n",
      "postage                                66710.24\n",
      "assorted colour bird ornament          56331.91\n",
      "rabbit night light                     51042.84\n",
      "chilli lights                          45915.41\n",
      "paper chain kit 50's christmas         41423.78\n",
      "picnic basket wicker 60 pieces         39619.50\n",
      "Name: total_sales, dtype: float64\n"
     ]
    }
   ],
   "source": [
    "# Criando uma nova coluna para o total de vendas (quantity * unitprice)\n",
    "ecommerce['total_sales'] = ecommerce['quantity'] * ecommerce['unitprice']\n",
    "\n",
    "# Agrupando por produto e somando as vendas totais\n",
    "total_sales = ecommerce.groupby('description')['total_sales'].sum()\n",
    "\n",
    "# Exibindo os resultados\n",
    "print(total_sales.sort_values(ascending=False).head(10))\n"
   ]
  },
  {
   "cell_type": "code",
   "execution_count": 162,
   "metadata": {},
   "outputs": [
    {
     "name": "stdout",
     "output_type": "stream",
     "text": [
      "-80995\n"
     ]
    }
   ],
   "source": [
    "# Existem quantidades negativas na coluna 'quantity' que para uma eventual analise grafica irá interferir. exemplo:\n",
    "print(ecommerce['quantity'].min())"
   ]
  },
  {
   "cell_type": "code",
   "execution_count": 163,
   "metadata": {},
   "outputs": [
    {
     "name": "stdout",
     "output_type": "stream",
     "text": [
      "int64\n"
     ]
    }
   ],
   "source": [
    "# Verificando type da coluna quantity:\n",
    "print(ecommerce['quantity'].dtype)"
   ]
  },
  {
   "cell_type": "code",
   "execution_count": 164,
   "metadata": {},
   "outputs": [],
   "source": [
    "# Convertendo para númerico:\n",
    "ecommerce['quantity'] = pd.to_numeric(ecommerce['quantity'], errors='coerce')"
   ]
  },
  {
   "cell_type": "code",
   "execution_count": 165,
   "metadata": {},
   "outputs": [
    {
     "name": "stdout",
     "output_type": "stream",
     "text": [
      "Clientes que mais consumiram (Valor)\n",
      "customerid\n",
      "14646    280206.02\n",
      "18102    259657.30\n",
      "17450    194390.79\n",
      "16446    168472.50\n",
      "14911    143711.17\n",
      "12415    124914.53\n",
      "14156    117210.08\n",
      "17511     91062.38\n",
      "16029     80850.84\n",
      "12346     77183.60\n",
      "Name: total_sales, dtype: float64\n"
     ]
    }
   ],
   "source": [
    "# Verificando valor total gasto por clientes:\n",
    "\n",
    "# Antes, eliminando valores negativos em quantity:\n",
    "ecommerce = ecommerce[ecommerce['quantity'] >= 0]\n",
    "\n",
    "# Convertendo para string\n",
    "ecommerce['customerid'] = ecommerce['customerid'].astype(str)\n",
    "\n",
    "customer_total = ecommerce.groupby('customerid')['total_sales'].sum()\n",
    "\n",
    "# Verificando os clientes que mais gastaram\n",
    "print('Clientes que mais consumiram (Valor)')\n",
    "print(customer_total.sort_values(ascending=False).head(10))"
   ]
  },
  {
   "cell_type": "code",
   "execution_count": 166,
   "metadata": {},
   "outputs": [
    {
     "name": "stdout",
     "output_type": "stream",
     "text": [
      "Grupos que mais arrecadaram:\n",
      "customer_rank\n",
      "medium freq        5022238\n",
      "very litle freq    1647933\n",
      "litle freq.        1147188\n",
      "Top freq            635363\n",
      "high freq           434484\n",
      "Name: total_sales, dtype: int64\n"
     ]
    }
   ],
   "source": [
    "# Verificando a contruibuição financeira de cada grupo:\n",
    "\n",
    "total_group = ecommerce.groupby('customer_rank')['total_sales'].sum()\n",
    "total_group = total_group.astype(int)\n",
    "\n",
    "print('Grupos que mais arrecadaram:')\n",
    "print(total_group.sort_values(ascending=False))"
   ]
  },
  {
   "cell_type": "markdown",
   "metadata": {},
   "source": [
    "#### Resposta do aluno:\n",
    "*Podemos ver que o grupo de clientes que compra com muita frequência, não é de longe o grupo com maior gasto, ou seja os clientes categorizados em média frequência de compras, são responsáveis pelo maior faturamento da empresa, seguindo pelos muito pouca frequência, e posteriormente pouca frequência de compra*"
   ]
  },
  {
   "cell_type": "markdown",
   "metadata": {},
   "source": [
    "##### Realização de Gráficos\n",
    "- Realizar gráficos para visualização de vendas por período. - OK\n",
    "- Gráficos temporais para identificar tendências sazonais ou mudanças no comportamento. - OK\n",
    "- Realizar gráficos de receita por produto. - OK\n",
    "- Verificar a distribuição de receita entre diferentes produtos. - OK\n",
    "- Realizar gráficos de receita para grupos de clientes (Podemos definir grupos conforme a frequência de compras). -OK"
   ]
  },
  {
   "cell_type": "code",
   "execution_count": 167,
   "metadata": {
    "scrolled": false
   },
   "outputs": [
    {
     "data": {
      "image/png": "[encoded data removed]",
      "text/plain": [
       "<Figure size 700x400 with 1 Axes>"
      ]
     },
     "metadata": {},
     "output_type": "display_data"
    }
   ],
   "source": [
    "# Realizar gráficos para visualização de vendas por período\n",
    "\n",
    "# Agrupando os dados por mês\n",
    "ecommerce_month = ecommerce.groupby(pd.Grouper(key='invoicedate', freq='M'))['total_sales'].sum()\n",
    "\n",
    "# gráfico\n",
    "plt.figure(figsize=(7, 4))\n",
    "plt.plot(ecommerce_month.index, ecommerce_month.values, marker='o', linestyle='-', color='green', label='Vendas por período')\n",
    "\n",
    "plt.xlabel('Mês')\n",
    "plt.ylabel('Realizado (Million)')\n",
    "plt.title('Receita por período', fontsize=16)\n",
    "plt.xticks(rotation=45, fontsize=10)\n",
    "plt.yticks(fontsize=10)\n",
    "plt.grid(alpha=0.3)\n",
    "plt.legend(fontsize=10)\n",
    "plt.tight_layout()\n",
    "plt.show()"
   ]
  },
  {
   "cell_type": "markdown",
   "metadata": {},
   "source": [
    "<div class=\"alert alert-block alert-info\">\n",
    "<b>Resposta do Aluno:CONCLUSÃO: Neste Gráfico os dados das vendas foram ordenados por mês, diferente do gráfico anterior que era mais simples e com objetivo apenas de mostrar como o consumo era distribuído, neste foi adcionado marcadores e grade, o que facilitou a visualização, o que foi possível observar um pico de vendas nos meses 11 e 12/2019, no período que antecede essa data é possível ver que as vendas oscilavam entre 400 e 650 mil, o que teve um crescimento no final do período.  </b> <a class=\"tocSkip\"></a>\n",
    "</div>"
   ]
  },
  {
   "cell_type": "code",
   "execution_count": 168,
   "metadata": {},
   "outputs": [
    {
     "data": {
      "image/png": "[encoded data removed]",
      "text/plain": [
       "<Figure size 600x600 with 1 Axes>"
      ]
     },
     "metadata": {},
     "output_type": "display_data"
    }
   ],
   "source": [
    "# Receita por produto\n",
    "\n",
    "top_30 = total_sales.sort_values(ascending=False).head(30)\n",
    "\n",
    "plt.figure(figsize=(6, 6))\n",
    "plt.plot(top_30.index, top_30.values)\n",
    "plt.xlabel('Produto')\n",
    "plt.ylabel('Vendas')\n",
    "plt.title('30 Produtos com maior faturamento')\n",
    "plt.xticks(rotation=90)\n",
    "plt.show()"
   ]
  },
  {
   "cell_type": "markdown",
   "metadata": {},
   "source": [
    "<div class=\"alert alert-block alert-info\">\n",
    "<b>Resposta do Aluno: CONCLUSÃO: O objetivo desse gráfico foi ter uma ideia visual da representatividade de cada produto no faturamento do período, nesse gráfico temos os 30 produtos mais vendidos e seus respectivos valores de venda no eixo y. nesse gráfico fica evitente que temos produtos que se sobresaem em relação aos demais. </b> <a class=\"tocSkip\"></a>\n",
    "</div>"
   ]
  },
  {
   "cell_type": "code",
   "execution_count": 169,
   "metadata": {},
   "outputs": [
    {
     "data": {
      "image/png": "[encoded data removed]",
      "text/plain": [
       "<Figure size 1200x600 with 1 Axes>"
      ]
     },
     "metadata": {},
     "output_type": "display_data"
    }
   ],
   "source": [
    "# Verificando a distribuição da receita por cliente\n",
    "\n",
    "top_25 = customer_total.sort_values(ascending=False).head(25)\n",
    "\n",
    "# gráfico\n",
    "plt.figure(figsize=(12, 6))\n",
    "plt.bar(top_25.index, top_25.values, color='skyblue')\n",
    "\n",
    "plt.title('TOP 25 Clientes com Maior Consumo', fontsize=18)\n",
    "plt.xlabel('Código do cliente', fontsize=14)\n",
    "plt.ylabel('Quantidade Vendida', fontsize=14)\n",
    "plt.xticks(rotation=90, fontsize=10)\n",
    "plt.tight_layout()\n",
    "plt.show()\n"
   ]
  },
  {
   "cell_type": "markdown",
   "metadata": {},
   "source": [
    "<div class=\"alert alert-block alert-info\">\n",
    "<b>Resposta do Aluno: CONCLUSÃO: O objetivo desse gráfico foi ter uma ideia visual da representatividade de cada cliente no faturamento do período, lembrando que tive que transformar os dados dos códigos id dos clientes para processar o gráfico, neste gráfico também podemos observar que existem clientes que se sobresaem em relação aos demais, inclusive os mesmos foram classificados no decorrer desse projeto. </b> <a class=\"tocSkip\"></a>\n",
    "</div>"
   ]
  },
  {
   "cell_type": "code",
   "execution_count": 170,
   "metadata": {},
   "outputs": [
    {
     "data": {
      "image/png": "[encoded data removed]",
      "text/plain": [
       "<Figure size 600x600 with 1 Axes>"
      ]
     },
     "metadata": {},
     "output_type": "display_data"
    },
    {
     "name": "stdout",
     "output_type": "stream",
     "text": [
      "customer_rank\n",
      "medium freq        5022238\n",
      "very litle freq    1647933\n",
      "litle freq.        1147188\n",
      "Top freq            635363\n",
      "high freq           434484\n",
      "Name: total_sales, dtype: int64\n"
     ]
    }
   ],
   "source": [
    "# Realizar gráficos de receita para grupos de clientes conforme a frequência de compras\n",
    "\n",
    "plt.figure(figsize=(6, 6))\n",
    "plt.pie(\n",
    "    total_group.values,\n",
    "    labels=total_group.index,\n",
    "    autopct=lambda p: f'{p:.1f}%',\n",
    "    startangle=90 \n",
    ")\n",
    "\n",
    "\n",
    "plt.title('Consumo dos usuários conforme a frequência', fontsize=14)\n",
    "plt.tight_layout()\n",
    "plt.show()\n",
    "\n",
    "print(total_group.sort_values(ascending=False))"
   ]
  },
  {
   "cell_type": "markdown",
   "metadata": {},
   "source": [
    "#### Resposta do aluno:\n",
    "*Podemos observar no gráfico acima que o grupo clientes que compram em uma frequência média, aproximadamente 100 vezes durante o período, representam 56% do faturamento da empresa.*"
   ]
  },
  {
   "cell_type": "markdown",
   "metadata": {},
   "source": [
    "##### Análise de Grupos\n",
    "- Avaliar o desempenho financeiro dos grupos definidos com base na frequência de compras. - OK\n",
    "- Estabelecer métricas para separar os clientes, verificar o tipo de produto e definir por categorias, e estabelecer limiar de valores para separar os clientes (os grupos que geram mais receita e os que geram menos). - OK\n",
    "- Criar categorias baseadas nos insights coletados até aqui para uma segmentação mais eficaz. - OK\n",
    "- Descobrir a Taxa de Retenção. - OK\n",
    "- Descobrir o LTV. - OK\n",
    "- Calcular o Lifetime Value para estimar a contribuição de receita futura dos clientes. - OK\n"
   ]
  },
  {
   "cell_type": "code",
   "execution_count": 171,
   "metadata": {},
   "outputs": [
    {
     "name": "stdout",
     "output_type": "stream",
     "text": [
      "                                    customer_rank  total_sales\n",
      "description                                                   \n",
      "paper craft , little birdie                     1    168469.60\n",
      "regency cakestand 3 tier                     1714    142264.75\n",
      "white hanging heart t-light holder           2016    100392.10\n",
      "jumbo bag red retrospot                      1615     85040.54\n",
      "medium ceramic top storage jar                198     81416.73\n",
      "postage                                      1099     77803.96\n",
      "party bunting                                1390     68785.23\n",
      "assorted colour bird ornament                1395     56413.03\n",
      "manual                                        285     53419.93\n",
      "rabbit night light                            823     51251.24\n"
     ]
    }
   ],
   "source": [
    "# Verificando os principais produtos e seu publico alvo além do faturamento\n",
    "\n",
    "comparative = ecommerce.groupby('description').agg({'customer_rank':'count', 'total_sales': 'sum'})\n",
    "print(comparative.sort_values(by='total_sales', ascending=False).head(10))"
   ]
  },
  {
   "cell_type": "code",
   "execution_count": 172,
   "metadata": {},
   "outputs": [
    {
     "name": "stdout",
     "output_type": "stream",
     "text": [
      "       invoiceno stockcode                  description  quantity  \\\n",
      "540421    581483     23843  paper craft , little birdie     80995   \n",
      "\n",
      "               invoicedate  unitprice customerid  costumer_total  \\\n",
      "540421 2019-12-07 09:15:00       2.08      16446               4   \n",
      "\n",
      "          customer_rank  total_sales  \n",
      "540421  very litle freq     168469.6  \n"
     ]
    }
   ],
   "source": [
    "# foi possível identificar que o produto de maior faturamento foi adquirido por apenas um cliente.\n",
    "customer_paper = ecommerce.loc[ecommerce['description'] == 'paper craft , little birdie']\n",
    "print(customer_paper)"
   ]
  },
  {
   "cell_type": "markdown",
   "metadata": {},
   "source": [
    "#### Resposta do aluno:\n",
    "*esse cliente código id 16446 comprou apenas 1 vez contudo uma quantidade muito alta, podemos considerar como outlier*"
   ]
  },
  {
   "cell_type": "code",
   "execution_count": 173,
   "metadata": {},
   "outputs": [
    {
     "name": "stdout",
     "output_type": "stream",
     "text": [
      "       invoiceno stockcode               description  quantity  \\\n",
      "880       536477     22423  regency cakestand 3 tier        16   \n",
      "936       536502     22423  regency cakestand 3 tier         2   \n",
      "1092      536525     22423  regency cakestand 3 tier         2   \n",
      "1155      536528     22423  regency cakestand 3 tier         1   \n",
      "1197      536530     22423  regency cakestand 3 tier         1   \n",
      "...          ...       ...                       ...       ...   \n",
      "538094    581397     22423  regency cakestand 3 tier         3   \n",
      "538944    581425     22423  regency cakestand 3 tier         1   \n",
      "539891    581449     22423  regency cakestand 3 tier         1   \n",
      "540216    581472     22423  regency cakestand 3 tier         2   \n",
      "541231    581495     22423  regency cakestand 3 tier        10   \n",
      "\n",
      "               invoicedate  unitprice customerid  costumer_total  \\\n",
      "880    2018-11-29 12:27:00      10.95      16210             123   \n",
      "936    2018-11-29 12:36:00      12.75      16552              17   \n",
      "1092   2018-11-29 12:54:00      12.75      14078              65   \n",
      "1155   2018-11-29 13:17:00      12.75      15525             158   \n",
      "1197   2018-11-29 13:21:00      12.75      17905              33   \n",
      "...                    ...        ...        ...             ...   \n",
      "538094 2019-12-06 13:25:00      12.75      17668              15   \n",
      "538944 2019-12-06 15:31:00      12.75      14796            1156   \n",
      "539891 2019-12-06 17:37:00      12.75      12748            4459   \n",
      "540216 2019-12-06 19:55:00      12.75      15796             134   \n",
      "541231 2019-12-07 10:20:00      12.75      14051             215   \n",
      "\n",
      "          customer_rank  total_sales  \n",
      "880         medium freq       175.20  \n",
      "936     very litle freq        25.50  \n",
      "1092        litle freq.        25.50  \n",
      "1155        medium freq        12.75  \n",
      "1197    very litle freq        12.75  \n",
      "...                 ...          ...  \n",
      "538094  very litle freq        38.25  \n",
      "538944        high freq        12.75  \n",
      "539891         Top freq        12.75  \n",
      "540216      medium freq        25.50  \n",
      "541231      medium freq       127.50  \n",
      "\n",
      "[1714 rows x 10 columns]\n"
     ]
    }
   ],
   "source": [
    "# Verificando o segundo item mais vendido, este produto  esta melhor distribuido entre os consumidores.\n",
    "customer_regency = ecommerce.loc[ecommerce['description'] == 'regency cakestand 3 tier']\n",
    "print(customer_regency)"
   ]
  },
  {
   "cell_type": "code",
   "execution_count": 174,
   "metadata": {},
   "outputs": [
    {
     "name": "stdout",
     "output_type": "stream",
     "text": [
      "Quantidade de clientes em cada nível (Receita):\n",
      "          customerid\n",
      "Nível               \n",
      "Prata            792\n",
      "Ouro              97\n",
      "Latão            159\n",
      "Diamante           7\n",
      "Bronze          3284\n",
      "\n",
      "customerid\n",
      "14646    280206.02\n",
      "18102    259657.30\n",
      "17450    194390.79\n",
      "16446    168472.50\n",
      "14911    143711.17\n",
      "12415    124914.53\n",
      "14156    117210.08\n",
      "17511     91062.38\n",
      "16029     80850.84\n",
      "12346     77183.60\n",
      "Name: total_sales, dtype: float64\n"
     ]
    }
   ],
   "source": [
    "# Estabelecendo um novo padrão de filtro para classificar os clientes, \n",
    "# agora levando em consideração o faturamento como critério principal.\n",
    "\n",
    "#faturamento total por cliente\n",
    "ecommerce['total_sales_customer'] = ecommerce.groupby('customerid')['total_sales'].transform('sum')\n",
    "\n",
    "conditions_2 = [\n",
    "    ecommerce['total_sales_customer'] < 100,\n",
    "    (ecommerce['total_sales_customer'] >= 100) & (ecommerce['total_sales_customer'] < 2000),\n",
    "    (ecommerce['total_sales_customer'] >= 2000) & (ecommerce['total_sales_customer'] < 10000),\n",
    "    (ecommerce['total_sales_customer'] >= 10000) & (ecommerce['total_sales_customer'] < 100000),\n",
    "    ecommerce['total_sales_customer'] >= 100000\n",
    "]\n",
    "\n",
    "# Definindo os valores correspondentes às condições\n",
    "categories_2 = ['Latão', 'Bronze', 'Prata', 'Ouro', 'Diamante']\n",
    "\n",
    "# Criando a coluna de ranking para classificar os clientes\n",
    "ecommerce['Nível'] = np.select(conditions_2, categories_2, default='Sem Categoria')\n",
    "\n",
    "# Verificando a quantidade de clientes em cada nível:\n",
    "print('Quantidade de clientes em cada nível (Receita):')\n",
    "print(ecommerce.groupby('Nível').agg({'customerid': 'nunique'}).sort_values(by='Nível', ascending=False))\n",
    "print()\n",
    "print(customer_total.sort_values(ascending=False).head(10))"
   ]
  },
  {
   "cell_type": "markdown",
   "metadata": {},
   "source": [
    "#### Resposta do aluno:\n",
    "\n",
    "*Podemos observar que agora temos uma divisão (ranqueamento) mais coerente em relação aos clientes, a frequência de compras no final acaba não sento tão importante quanto o faturamento."
   ]
  },
  {
   "cell_type": "code",
   "execution_count": 175,
   "metadata": {},
   "outputs": [
    {
     "data": {
      "text/html": [
       "<div>\n",
       "<style scoped>\n",
       "    .dataframe tbody tr th:only-of-type {\n",
       "        vertical-align: middle;\n",
       "    }\n",
       "\n",
       "    .dataframe tbody tr th {\n",
       "        vertical-align: top;\n",
       "    }\n",
       "\n",
       "    .dataframe thead th {\n",
       "        text-align: right;\n",
       "    }\n",
       "</style>\n",
       "<table border=\"1\" class=\"dataframe\">\n",
       "  <thead>\n",
       "    <tr style=\"text-align: right;\">\n",
       "      <th></th>\n",
       "      <th>first_orders_month</th>\n",
       "      <th>age</th>\n",
       "      <th>gp</th>\n",
       "      <th>Uid</th>\n",
       "      <th>ltv</th>\n",
       "    </tr>\n",
       "  </thead>\n",
       "  <tbody>\n",
       "    <tr>\n",
       "      <th>0</th>\n",
       "      <td>2018-11</td>\n",
       "      <td>0</td>\n",
       "      <td>93390.06</td>\n",
       "      <td>188</td>\n",
       "      <td>496.755638</td>\n",
       "    </tr>\n",
       "    <tr>\n",
       "      <th>1</th>\n",
       "      <td>2018-11</td>\n",
       "      <td>1</td>\n",
       "      <td>85374.84</td>\n",
       "      <td>71</td>\n",
       "      <td>1202.462535</td>\n",
       "    </tr>\n",
       "    <tr>\n",
       "      <th>2</th>\n",
       "      <td>2018-11</td>\n",
       "      <td>2</td>\n",
       "      <td>70785.34</td>\n",
       "      <td>69</td>\n",
       "      <td>1025.874493</td>\n",
       "    </tr>\n",
       "    <tr>\n",
       "      <th>3</th>\n",
       "      <td>2018-11</td>\n",
       "      <td>3</td>\n",
       "      <td>51493.64</td>\n",
       "      <td>62</td>\n",
       "      <td>830.542581</td>\n",
       "    </tr>\n",
       "    <tr>\n",
       "      <th>4</th>\n",
       "      <td>2018-11</td>\n",
       "      <td>4</td>\n",
       "      <td>77176.09</td>\n",
       "      <td>68</td>\n",
       "      <td>1134.942500</td>\n",
       "    </tr>\n",
       "    <tr>\n",
       "      <th>...</th>\n",
       "      <td>...</td>\n",
       "      <td>...</td>\n",
       "      <td>...</td>\n",
       "      <td>...</td>\n",
       "      <td>...</td>\n",
       "    </tr>\n",
       "    <tr>\n",
       "      <th>100</th>\n",
       "      <td>2019-10</td>\n",
       "      <td>1</td>\n",
       "      <td>47232.45</td>\n",
       "      <td>92</td>\n",
       "      <td>513.396196</td>\n",
       "    </tr>\n",
       "    <tr>\n",
       "      <th>101</th>\n",
       "      <td>2019-10</td>\n",
       "      <td>2</td>\n",
       "      <td>10101.81</td>\n",
       "      <td>36</td>\n",
       "      <td>280.605833</td>\n",
       "    </tr>\n",
       "    <tr>\n",
       "      <th>102</th>\n",
       "      <td>2019-11</td>\n",
       "      <td>0</td>\n",
       "      <td>130466.10</td>\n",
       "      <td>306</td>\n",
       "      <td>426.359804</td>\n",
       "    </tr>\n",
       "    <tr>\n",
       "      <th>103</th>\n",
       "      <td>2019-11</td>\n",
       "      <td>1</td>\n",
       "      <td>5864.73</td>\n",
       "      <td>19</td>\n",
       "      <td>308.670000</td>\n",
       "    </tr>\n",
       "    <tr>\n",
       "      <th>104</th>\n",
       "      <td>2019-12</td>\n",
       "      <td>0</td>\n",
       "      <td>24897.37</td>\n",
       "      <td>31</td>\n",
       "      <td>803.140968</td>\n",
       "    </tr>\n",
       "  </tbody>\n",
       "</table>\n",
       "<p>105 rows × 5 columns</p>\n",
       "</div>"
      ],
      "text/plain": [
       "    first_orders_month  age         gp  Uid          ltv\n",
       "0              2018-11    0   93390.06  188   496.755638\n",
       "1              2018-11    1   85374.84   71  1202.462535\n",
       "2              2018-11    2   70785.34   69  1025.874493\n",
       "3              2018-11    3   51493.64   62   830.542581\n",
       "4              2018-11    4   77176.09   68  1134.942500\n",
       "..                 ...  ...        ...  ...          ...\n",
       "100            2019-10    1   47232.45   92   513.396196\n",
       "101            2019-10    2   10101.81   36   280.605833\n",
       "102            2019-11    0  130466.10  306   426.359804\n",
       "103            2019-11    1    5864.73   19   308.670000\n",
       "104            2019-12    0   24897.37   31   803.140968\n",
       "\n",
       "[105 rows x 5 columns]"
      ]
     },
     "execution_count": 175,
     "metadata": {},
     "output_type": "execute_result"
    }
   ],
   "source": [
    "# Calculando LTV , TAXA de Retenção\n",
    "ecommerce['invoicedate'] = pd.to_datetime(ecommerce['invoicedate'])\n",
    "\n",
    "# Cohort 1º mês:\n",
    "ecommerce['first_orders_month'] = ecommerce.groupby('customerid')['invoicedate'].transform('min').dt.to_period('M')\n",
    "\n",
    "#Verificando a quantidade de clientes para cada mês:\n",
    "\n",
    "ecommerce['activity_month'] = ecommerce['invoicedate'].dt.to_period('M')\n",
    "ecommerce['age'] = (ecommerce['activity_month'] - ecommerce['first_orders_month']).apply(lambda x: x.n)\n",
    "\n",
    "\n",
    "# Calcular o LTV\n",
    "# Agrupar por coorte e idade, calculando as métricas necessárias\n",
    "report = ecommerce.groupby(['first_orders_month', 'age']).agg(\n",
    "    gp=('total_sales', 'sum'),   # gross profit\n",
    "    Uid=('customerid', 'nunique')  \n",
    ").reset_index()\n",
    "\n",
    "report['ltv'] = report['gp'] / report['Uid']\n",
    "report"
   ]
  },
  {
   "cell_type": "code",
   "execution_count": 176,
   "metadata": {},
   "outputs": [
    {
     "data": {
      "text/html": [
       "<div>\n",
       "<style scoped>\n",
       "    .dataframe tbody tr th:only-of-type {\n",
       "        vertical-align: middle;\n",
       "    }\n",
       "\n",
       "    .dataframe tbody tr th {\n",
       "        vertical-align: top;\n",
       "    }\n",
       "\n",
       "    .dataframe thead th {\n",
       "        text-align: right;\n",
       "    }\n",
       "</style>\n",
       "<table border=\"1\" class=\"dataframe\">\n",
       "  <thead>\n",
       "    <tr style=\"text-align: right;\">\n",
       "      <th>age</th>\n",
       "      <th>0</th>\n",
       "      <th>1</th>\n",
       "      <th>2</th>\n",
       "      <th>3</th>\n",
       "      <th>4</th>\n",
       "      <th>5</th>\n",
       "      <th>6</th>\n",
       "      <th>7</th>\n",
       "      <th>8</th>\n",
       "      <th>9</th>\n",
       "      <th>10</th>\n",
       "      <th>11</th>\n",
       "      <th>12</th>\n",
       "      <th>13</th>\n",
       "    </tr>\n",
       "    <tr>\n",
       "      <th>first_orders_month</th>\n",
       "      <th></th>\n",
       "      <th></th>\n",
       "      <th></th>\n",
       "      <th></th>\n",
       "      <th></th>\n",
       "      <th></th>\n",
       "      <th></th>\n",
       "      <th></th>\n",
       "      <th></th>\n",
       "      <th></th>\n",
       "      <th></th>\n",
       "      <th></th>\n",
       "      <th></th>\n",
       "      <th></th>\n",
       "    </tr>\n",
       "  </thead>\n",
       "  <tbody>\n",
       "    <tr>\n",
       "      <th>2018-11</th>\n",
       "      <td>497.0</td>\n",
       "      <td>1202.0</td>\n",
       "      <td>1026.0</td>\n",
       "      <td>831.0</td>\n",
       "      <td>1135.0</td>\n",
       "      <td>679.0</td>\n",
       "      <td>1258.0</td>\n",
       "      <td>976.0</td>\n",
       "      <td>1104.0</td>\n",
       "      <td>1263.0</td>\n",
       "      <td>1295.0</td>\n",
       "      <td>1722.0</td>\n",
       "      <td>1662.0</td>\n",
       "      <td>1259.0</td>\n",
       "    </tr>\n",
       "    <tr>\n",
       "      <th>2018-12</th>\n",
       "      <td>562.0</td>\n",
       "      <td>844.0</td>\n",
       "      <td>807.0</td>\n",
       "      <td>813.0</td>\n",
       "      <td>631.0</td>\n",
       "      <td>934.0</td>\n",
       "      <td>950.0</td>\n",
       "      <td>987.0</td>\n",
       "      <td>1121.0</td>\n",
       "      <td>1286.0</td>\n",
       "      <td>1279.0</td>\n",
       "      <td>1025.0</td>\n",
       "      <td>671.0</td>\n",
       "      <td>0.0</td>\n",
       "    </tr>\n",
       "    <tr>\n",
       "      <th>2019-01</th>\n",
       "      <td>668.0</td>\n",
       "      <td>570.0</td>\n",
       "      <td>559.0</td>\n",
       "      <td>708.0</td>\n",
       "      <td>635.0</td>\n",
       "      <td>614.0</td>\n",
       "      <td>649.0</td>\n",
       "      <td>696.0</td>\n",
       "      <td>536.0</td>\n",
       "      <td>841.0</td>\n",
       "      <td>763.0</td>\n",
       "      <td>550.0</td>\n",
       "      <td>0.0</td>\n",
       "      <td>0.0</td>\n",
       "    </tr>\n",
       "    <tr>\n",
       "      <th>2019-02</th>\n",
       "      <td>438.0</td>\n",
       "      <td>446.0</td>\n",
       "      <td>559.0</td>\n",
       "      <td>449.0</td>\n",
       "      <td>376.0</td>\n",
       "      <td>418.0</td>\n",
       "      <td>539.0</td>\n",
       "      <td>569.0</td>\n",
       "      <td>552.0</td>\n",
       "      <td>577.0</td>\n",
       "      <td>318.0</td>\n",
       "      <td>0.0</td>\n",
       "      <td>0.0</td>\n",
       "      <td>0.0</td>\n",
       "    </tr>\n",
       "    <tr>\n",
       "      <th>2019-03</th>\n",
       "      <td>429.0</td>\n",
       "      <td>434.0</td>\n",
       "      <td>551.0</td>\n",
       "      <td>466.0</td>\n",
       "      <td>513.0</td>\n",
       "      <td>588.0</td>\n",
       "      <td>545.0</td>\n",
       "      <td>693.0</td>\n",
       "      <td>581.0</td>\n",
       "      <td>263.0</td>\n",
       "      <td>0.0</td>\n",
       "      <td>0.0</td>\n",
       "      <td>0.0</td>\n",
       "      <td>0.0</td>\n",
       "    </tr>\n",
       "    <tr>\n",
       "      <th>2019-04</th>\n",
       "      <td>403.0</td>\n",
       "      <td>421.0</td>\n",
       "      <td>388.0</td>\n",
       "      <td>352.0</td>\n",
       "      <td>374.0</td>\n",
       "      <td>429.0</td>\n",
       "      <td>446.0</td>\n",
       "      <td>412.0</td>\n",
       "      <td>268.0</td>\n",
       "      <td>0.0</td>\n",
       "      <td>0.0</td>\n",
       "      <td>0.0</td>\n",
       "      <td>0.0</td>\n",
       "      <td>0.0</td>\n",
       "    </tr>\n",
       "    <tr>\n",
       "      <th>2019-05</th>\n",
       "      <td>434.0</td>\n",
       "      <td>321.0</td>\n",
       "      <td>431.0</td>\n",
       "      <td>379.0</td>\n",
       "      <td>474.0</td>\n",
       "      <td>500.0</td>\n",
       "      <td>480.0</td>\n",
       "      <td>10844.0</td>\n",
       "      <td>0.0</td>\n",
       "      <td>0.0</td>\n",
       "      <td>0.0</td>\n",
       "      <td>0.0</td>\n",
       "      <td>0.0</td>\n",
       "      <td>0.0</td>\n",
       "    </tr>\n",
       "    <tr>\n",
       "      <th>2019-06</th>\n",
       "      <td>567.0</td>\n",
       "      <td>371.0</td>\n",
       "      <td>342.0</td>\n",
       "      <td>504.0</td>\n",
       "      <td>459.0</td>\n",
       "      <td>536.0</td>\n",
       "      <td>299.0</td>\n",
       "      <td>0.0</td>\n",
       "      <td>0.0</td>\n",
       "      <td>0.0</td>\n",
       "      <td>0.0</td>\n",
       "      <td>0.0</td>\n",
       "      <td>0.0</td>\n",
       "      <td>0.0</td>\n",
       "    </tr>\n",
       "    <tr>\n",
       "      <th>2019-07</th>\n",
       "      <td>447.0</td>\n",
       "      <td>329.0</td>\n",
       "      <td>433.0</td>\n",
       "      <td>431.0</td>\n",
       "      <td>390.0</td>\n",
       "      <td>279.0</td>\n",
       "      <td>0.0</td>\n",
       "      <td>0.0</td>\n",
       "      <td>0.0</td>\n",
       "      <td>0.0</td>\n",
       "      <td>0.0</td>\n",
       "      <td>0.0</td>\n",
       "      <td>0.0</td>\n",
       "      <td>0.0</td>\n",
       "    </tr>\n",
       "    <tr>\n",
       "      <th>2019-08</th>\n",
       "      <td>414.0</td>\n",
       "      <td>620.0</td>\n",
       "      <td>813.0</td>\n",
       "      <td>964.0</td>\n",
       "      <td>971.0</td>\n",
       "      <td>0.0</td>\n",
       "      <td>0.0</td>\n",
       "      <td>0.0</td>\n",
       "      <td>0.0</td>\n",
       "      <td>0.0</td>\n",
       "      <td>0.0</td>\n",
       "      <td>0.0</td>\n",
       "      <td>0.0</td>\n",
       "      <td>0.0</td>\n",
       "    </tr>\n",
       "    <tr>\n",
       "      <th>2019-09</th>\n",
       "      <td>524.0</td>\n",
       "      <td>442.0</td>\n",
       "      <td>386.0</td>\n",
       "      <td>351.0</td>\n",
       "      <td>0.0</td>\n",
       "      <td>0.0</td>\n",
       "      <td>0.0</td>\n",
       "      <td>0.0</td>\n",
       "      <td>0.0</td>\n",
       "      <td>0.0</td>\n",
       "      <td>0.0</td>\n",
       "      <td>0.0</td>\n",
       "      <td>0.0</td>\n",
       "      <td>0.0</td>\n",
       "    </tr>\n",
       "    <tr>\n",
       "      <th>2019-10</th>\n",
       "      <td>478.0</td>\n",
       "      <td>513.0</td>\n",
       "      <td>281.0</td>\n",
       "      <td>0.0</td>\n",
       "      <td>0.0</td>\n",
       "      <td>0.0</td>\n",
       "      <td>0.0</td>\n",
       "      <td>0.0</td>\n",
       "      <td>0.0</td>\n",
       "      <td>0.0</td>\n",
       "      <td>0.0</td>\n",
       "      <td>0.0</td>\n",
       "      <td>0.0</td>\n",
       "      <td>0.0</td>\n",
       "    </tr>\n",
       "    <tr>\n",
       "      <th>2019-11</th>\n",
       "      <td>426.0</td>\n",
       "      <td>309.0</td>\n",
       "      <td>0.0</td>\n",
       "      <td>0.0</td>\n",
       "      <td>0.0</td>\n",
       "      <td>0.0</td>\n",
       "      <td>0.0</td>\n",
       "      <td>0.0</td>\n",
       "      <td>0.0</td>\n",
       "      <td>0.0</td>\n",
       "      <td>0.0</td>\n",
       "      <td>0.0</td>\n",
       "      <td>0.0</td>\n",
       "      <td>0.0</td>\n",
       "    </tr>\n",
       "    <tr>\n",
       "      <th>2019-12</th>\n",
       "      <td>803.0</td>\n",
       "      <td>0.0</td>\n",
       "      <td>0.0</td>\n",
       "      <td>0.0</td>\n",
       "      <td>0.0</td>\n",
       "      <td>0.0</td>\n",
       "      <td>0.0</td>\n",
       "      <td>0.0</td>\n",
       "      <td>0.0</td>\n",
       "      <td>0.0</td>\n",
       "      <td>0.0</td>\n",
       "      <td>0.0</td>\n",
       "      <td>0.0</td>\n",
       "      <td>0.0</td>\n",
       "    </tr>\n",
       "  </tbody>\n",
       "</table>\n",
       "</div>"
      ],
      "text/plain": [
       "age                    0       1       2      3       4      5       6   \\\n",
       "first_orders_month                                                        \n",
       "2018-11             497.0  1202.0  1026.0  831.0  1135.0  679.0  1258.0   \n",
       "2018-12             562.0   844.0   807.0  813.0   631.0  934.0   950.0   \n",
       "2019-01             668.0   570.0   559.0  708.0   635.0  614.0   649.0   \n",
       "2019-02             438.0   446.0   559.0  449.0   376.0  418.0   539.0   \n",
       "2019-03             429.0   434.0   551.0  466.0   513.0  588.0   545.0   \n",
       "2019-04             403.0   421.0   388.0  352.0   374.0  429.0   446.0   \n",
       "2019-05             434.0   321.0   431.0  379.0   474.0  500.0   480.0   \n",
       "2019-06             567.0   371.0   342.0  504.0   459.0  536.0   299.0   \n",
       "2019-07             447.0   329.0   433.0  431.0   390.0  279.0     0.0   \n",
       "2019-08             414.0   620.0   813.0  964.0   971.0    0.0     0.0   \n",
       "2019-09             524.0   442.0   386.0  351.0     0.0    0.0     0.0   \n",
       "2019-10             478.0   513.0   281.0    0.0     0.0    0.0     0.0   \n",
       "2019-11             426.0   309.0     0.0    0.0     0.0    0.0     0.0   \n",
       "2019-12             803.0     0.0     0.0    0.0     0.0    0.0     0.0   \n",
       "\n",
       "age                      7       8       9       10      11      12      13  \n",
       "first_orders_month                                                           \n",
       "2018-11               976.0  1104.0  1263.0  1295.0  1722.0  1662.0  1259.0  \n",
       "2018-12               987.0  1121.0  1286.0  1279.0  1025.0   671.0     0.0  \n",
       "2019-01               696.0   536.0   841.0   763.0   550.0     0.0     0.0  \n",
       "2019-02               569.0   552.0   577.0   318.0     0.0     0.0     0.0  \n",
       "2019-03               693.0   581.0   263.0     0.0     0.0     0.0     0.0  \n",
       "2019-04               412.0   268.0     0.0     0.0     0.0     0.0     0.0  \n",
       "2019-05             10844.0     0.0     0.0     0.0     0.0     0.0     0.0  \n",
       "2019-06                 0.0     0.0     0.0     0.0     0.0     0.0     0.0  \n",
       "2019-07                 0.0     0.0     0.0     0.0     0.0     0.0     0.0  \n",
       "2019-08                 0.0     0.0     0.0     0.0     0.0     0.0     0.0  \n",
       "2019-09                 0.0     0.0     0.0     0.0     0.0     0.0     0.0  \n",
       "2019-10                 0.0     0.0     0.0     0.0     0.0     0.0     0.0  \n",
       "2019-11                 0.0     0.0     0.0     0.0     0.0     0.0     0.0  \n",
       "2019-12                 0.0     0.0     0.0     0.0     0.0     0.0     0.0  "
      ]
     },
     "execution_count": 176,
     "metadata": {},
     "output_type": "execute_result"
    }
   ],
   "source": [
    "output = report.pivot_table(\n",
    "    index='first_orders_month', \n",
    "    columns='age', \n",
    "    values='ltv', \n",
    "    aggfunc='mean'\n",
    ").round()\n",
    "\n",
    "output = output.fillna(0)\n",
    "output"
   ]
  },
  {
   "cell_type": "code",
   "execution_count": 177,
   "metadata": {},
   "outputs": [
    {
     "data": {
      "image/png": "[encoded data removed]",
      "text/plain": [
       "<Figure size 1500x900 with 2 Axes>"
      ]
     },
     "metadata": {},
     "output_type": "display_data"
    }
   ],
   "source": [
    "# Mapa  de Calor:\n",
    "import seaborn as sns\n",
    "\n",
    "plt.figure(figsize=(15, 9))\n",
    "sns.heatmap(output, annot=True, fmt='.2f', cmap='hot_r')\n",
    "plt.title('Mapa de Calor do LTV do Corte')\n",
    "plt.xlabel('Age (meses desde o primeiro pedido)')\n",
    "plt.ylabel('Mês do Primeiro Pedido')\n",
    "plt.show()"
   ]
  },
  {
   "cell_type": "markdown",
   "metadata": {},
   "source": [
    "#### Resposta do aluno:\n",
    "*Podemos observar no mapa de calor os valores mais altos em tonalidades mais fortes, indicando o LTV maior em determinado mês,n nesse mapa podemos ver que alguns meses tivemos uma boa retenção dos clientes, e em momentos especificos uma grande alta.*"
   ]
  },
  {
   "cell_type": "markdown",
   "metadata": {},
   "source": [
    "#### 4º Divisão de grupos com Clauster\n",
    "   - Dividir os clientes em dois grupos conforme estudos acima, (Exemplo clientes mais recentes e clientes antigos) para ter uma ideia dos produtos de cada grupo, e receita de cada grupo, usando K-Means.- OK\n",
    "   - Grafico de receita acumulada por grupo. - OK\n",
    "   - Encontrar a significância estatística de ambos os grupos - OK"
   ]
  },
  {
   "cell_type": "code",
   "execution_count": 178,
   "metadata": {
    "scrolled": false
   },
   "outputs": [
    {
     "name": "stdout",
     "output_type": "stream",
     "text": [
      "                                    customerid  total_sales\n",
      "description                                                \n",
      "paper craft , little birdie                  1    168469.60\n",
      "white hanging heart t-light holder           4     17055.44\n",
      "vintage union jack memoboard                 1     16592.08\n",
      "                                customerid  total_sales\n",
      "description                                            \n",
      "medium ceramic top storage jar          15     78409.50\n",
      "regency cakestand 3 tier                58     60920.85\n",
      "jumbo bag red retrospot                 50     40216.92\n",
      "                          customerid  total_sales\n",
      "description                                      \n",
      "regency cakestand 3 tier         307     45053.95\n",
      "postage                          101     37779.89\n",
      "party bunting                    254     30053.15\n",
      "                                    customerid  total_sales\n",
      "description                                                \n",
      "regency cakestand 3 tier                   508     23995.80\n",
      "white hanging heart t-light holder         547     21881.05\n",
      "postage                                    210     20654.82\n",
      "                                 customerid  total_sales\n",
      "description                                             \n",
      "antique silver t-light glass              5       303.96\n",
      "antique silver tea glass etched           4       243.96\n",
      "picnic basket wicker small                3       174.40\n"
     ]
    }
   ],
   "source": [
    "# Divisão de clientes:\n",
    "\n",
    "#identificando o consumidor pelo perfil de compra:\n",
    "\n",
    "def customer_func(dataframe, nivel): \n",
    "    resultado = (\n",
    "        dataframe[dataframe['Nível'] == nivel]\n",
    "        .groupby('description')\n",
    "        .agg({'customerid': 'nunique', 'total_sales': 'sum'})\n",
    "        .sort_values(by='total_sales', ascending=False)\n",
    "    )\n",
    "    return resultado\n",
    "\n",
    "resultado_diamante = customer_func(ecommerce, 'Diamante')\n",
    "print(resultado_diamante.head(3))\n",
    "\n",
    "resultado_ouro = customer_func(ecommerce, 'Ouro')\n",
    "print(resultado_ouro.head(3))\n",
    "\n",
    "resultado_prata = customer_func(ecommerce, 'Prata')\n",
    "print(resultado_prata.head(3))\n",
    "\n",
    "resultado_bronze = customer_func(ecommerce, 'Bronze')\n",
    "print(resultado_bronze.head(3))\n",
    "\n",
    "resultado_latao = customer_func(ecommerce, 'Latão')\n",
    "print(resultado_latao.head(3))"
   ]
  },
  {
   "cell_type": "code",
   "execution_count": 179,
   "metadata": {},
   "outputs": [
    {
     "data": {
      "image/png": "[encoded data removed]",
      "text/plain": [
       "<Figure size 1400x800 with 1 Axes>"
      ]
     },
     "metadata": {},
     "output_type": "display_data"
    }
   ],
   "source": [
    "# Grafico para visualizar produtos em relação a classificação de cliente:\n",
    "\n",
    "resultado_diamante['Nível'] = 'Diamante'\n",
    "resultado_ouro['Nível'] = 'Ouro'\n",
    "resultado_prata['Nível'] = 'Prata'\n",
    "resultado_bronze['Nível'] = 'Bronze'\n",
    "resultado_latao['Nível'] = 'Latão'\n",
    "\n",
    "# Combinando os DataFrames\n",
    "df_combined = pd.concat([resultado_diamante, resultado_ouro, resultado_prata, resultado_bronze, resultado_latao])\n",
    "df_combined.reset_index(inplace=True)\n",
    "\n",
    "# Filtrando os 5 produtos mais vendidos para visualização\n",
    "top_products = df_combined.groupby('description')['total_sales'].sum().nlargest(5).index\n",
    "df_filtered = df_combined[df_combined['description'].isin(top_products)]\n",
    "\n",
    "# Grafico\n",
    "plt.figure(figsize=(14, 8))\n",
    "sns.barplot(data=df_filtered, x='description', y='total_sales', hue='Nível', palette='Oranges')\n",
    "plt.title('Comparação de Vendas por Produto e Nível de Cliente', fontsize=16)\n",
    "plt.xlabel('Descrição do Produto', fontsize=12)\n",
    "plt.ylabel('Total de Vendas', fontsize=12)\n",
    "plt.xticks(rotation=45)\n",
    "plt.legend(title='Nível de Cliente', fontsize=10)\n",
    "plt.tight_layout()\n",
    "plt.show()"
   ]
  },
  {
   "cell_type": "markdown",
   "metadata": {},
   "source": [
    "<div class=\"alert alert-block alert-info\">\n",
    "<b>Resposta do Aluno: Nesse gráfico podemos observar os principais produtos que representam a maior receita no período estudado, juntamente com os clientes que compraram, vemos que para estes produtos os grupos de clientes estão bem divididos, com excessão do paper craft., que apenas um cliente categorizado como diamente realizou a compra do mesmo, e em grande escala, não considero esse produto como outlier, visto que pelo tipo de produto e quantidade vendida, é possívelmente um revendedor ou algum usuário que está utilizando com finalidade profissional, inclusive esta informação é útil para averiguarmos o mesmo entender a usabilidade e estender a capilaridade de anúncios para toda a rede de clientes, assim aumentando as vendas. </b> <a class=\"tocSkip\"></a>\n",
    "</div>"
   ]
  },
  {
   "cell_type": "code",
   "execution_count": 208,
   "metadata": {},
   "outputs": [
    {
     "name": "stdout",
     "output_type": "stream",
     "text": [
      "invoicedate  2018-11-29 08:26:00  2018-11-29 08:28:00  2018-11-29 08:34:00  \\\n",
      "Cluster                                                                      \n",
      "0                         139.12                 22.2               348.78   \n",
      "1                           0.00                  0.0                 0.00   \n",
      "\n",
      "invoicedate  2018-11-29 08:35:00  2018-11-29 08:45:00  2018-11-29 09:00:00  \\\n",
      "Cluster                                                                      \n",
      "0                          17.85               855.86                  204   \n",
      "1                           0.00                 0.00                    0   \n",
      "\n",
      "invoicedate  2018-11-29 09:01:00  2018-11-29 09:02:00  2018-11-29 09:09:00  \\\n",
      "Cluster                                                                      \n",
      "0                           22.2               259.86                350.4   \n",
      "1                            0.0                 0.00                  0.0   \n",
      "\n",
      "invoicedate  2018-11-29 09:32:00  ...  2019-12-07 12:09:00  \\\n",
      "Cluster                           ...                        \n",
      "0                         588.66  ...               277.08   \n",
      "1                           0.00  ...                 0.00   \n",
      "\n",
      "invoicedate  2019-12-07 12:16:00  2019-12-07 12:19:00  2019-12-07 12:20:00  \\\n",
      "Cluster                                                                      \n",
      "0                         848.55               903.62               145.29   \n",
      "1                           0.00                 0.00                 0.00   \n",
      "\n",
      "invoicedate  2019-12-07 12:21:00  2019-12-07 12:23:00  2019-12-07 12:25:00  \\\n",
      "Cluster                                                                      \n",
      "0                          29.88                124.6               140.64   \n",
      "1                           0.00                  0.0                 0.00   \n",
      "\n",
      "invoicedate  2019-12-07 12:31:00  2019-12-07 12:49:00  2019-12-07 12:50:00  \n",
      "Cluster                                                                     \n",
      "0                         329.05                339.2               249.45  \n",
      "1                           0.00                  0.0                 0.00  \n",
      "\n",
      "[2 rows x 7221 columns]\n"
     ]
    }
   ],
   "source": [
    "# Análise Kmeans: criando 2 grupos cluster conforme solicitado com grupos divididos em 3 primeiros meses e 3 ultimos meses.\n",
    "\n",
    "# importando bibliotecas\n",
    "from sklearn.cluster import KMeans\n",
    "from sklearn.preprocessing import StandardScaler\n",
    "\n",
    "# Extraindo data\n",
    "ecommerce['year_month'] = ecommerce['invoicedate'].dt.to_period('M')\n",
    "\n",
    "# Encontrando o primeiro e o último mês no DataFrame\n",
    "first_month = ecommerce['year_month'].min()\n",
    "last_month = ecommerce['year_month'].max()\n",
    "\n",
    "# Filtrando os clientes dos três primeiros meses e últimos meses\n",
    "first_three_months = ecommerce[ecommerce['year_month'] <= first_month + 2]\n",
    "last_three_months = ecommerce[ecommerce['year_month'] >= last_month - 2]\n",
    "\n",
    "# Juntando os dois DataFrames filtrados\n",
    "df_filtered = pd.concat([first_three_months, last_three_months])\n",
    "\n",
    "# \"clientes 3 primeiros meses x 3 ultimos\"\n",
    "df_pivot = df_filtered.pivot_table(\n",
    "    index='customerid', \n",
    "    columns='invoicedate', \n",
    "    values='total_sales', \n",
    "    aggfunc='sum', \n",
    "    fill_value=0\n",
    ")\n",
    "\n",
    "# Padronizando os dados\n",
    "scaler = StandardScaler()\n",
    "df_scaled = scaler.fit_transform(df_pivot)\n",
    "\n",
    "# Aplicando o K-Means\n",
    "kmeans = KMeans(n_clusters=2, random_state=42)\n",
    "clusters = kmeans.fit_predict(df_scaled)\n",
    "\n",
    "# Adicionando os clusters ao DataFrame\n",
    "df_pivot['Cluster'] = clusters\n",
    "\n",
    "# Calculando a receita média por cluster (3 primeiros vs 3 últimos meses)\n",
    "cluster_summary = df_pivot.groupby('Cluster').sum()\n",
    "\n",
    "print(cluster_summary)\n"
   ]
  },
  {
   "cell_type": "markdown",
   "metadata": {},
   "source": [
    "#### Resposta do Aluno:\n",
    "*Como podemos ver o grupo cluster 0 foi muito superior em relação ao cluster 1*"
   ]
  },
  {
   "cell_type": "code",
   "execution_count": 209,
   "metadata": {},
   "outputs": [
    {
     "name": "stdout",
     "output_type": "stream",
     "text": [
      "T-stat: 2.9531166962401456\n",
      "P-value: 0.003164636933955472\n",
      "\n",
      "Teste t para os 3 últimos meses: t-statistic = 2.9531166962401456, p-value = 0.003164636933955472\n"
     ]
    }
   ],
   "source": [
    "#### Descobrindo a significancia estatistica de ambos os grupos clientes dos 3 primeiros meses e 3 ultimos meses:\n",
    "\n",
    "# Importando a biblioteca stats\n",
    "from scipy import stats\n",
    "\n",
    "# Separando conjunto para comparação\n",
    "\n",
    "lista_1 = first_three_months['total_sales_customer'].unique().tolist()\n",
    "lista_2 = last_three_months['total_sales_customer'].unique().tolist()\n",
    "\n",
    "# Teste t para comparar as médias entre os grupos nos dois períodos\n",
    "# Teste t para os três primeiros meses\n",
    "\n",
    "t_stat, p_val = stats.ttest_ind(lista_1, lista_2)\n",
    "\n",
    "print(f'T-stat: {t_stat}')\n",
    "print(f'P-value: {p_val}')\n",
    "\n",
    "t_stat_last, p_val_last = stats.ttest_ind(lista_1, lista_2)\n",
    "print(f'\\nTeste t para os 3 últimos meses: t-statistic = {t_stat_last}, p-value = {p_val_last}')\n"
   ]
  },
  {
   "cell_type": "markdown",
   "metadata": {},
   "source": [
    "#### Resposta do aluno:\n",
    "*A diferença entre as médias dos clientes nos 3 primeiros meses e nos 3 últimos meses é estatisticamente significativa. Podemos observar que com essas informações, é possível sugerir que os padrões de consumo dos cliente mudaram entre os dois períodos.*"
   ]
  },
  {
   "cell_type": "markdown",
   "metadata": {},
   "source": [
    "### Conclusão final:\n",
    "#### Foi realizado uma análise completa no conjunto de dados, inclusive no decorrer da análise, foi possível observar que foi necessário modificar alguns pontos na decomposição do projeto, visto que ao olhar os dados, foi substituído algumas alternativas para um melhor processamento, e obtenção de informações, ou seja foi possível tirar informações importantes e insigths váliosos.  Podemos observar que a gama de consumidores é bem vasta, o segmento dos produtos também é bastante extensa, inclusive para entender melhor os consumidores, cada um foi classificado por sua frequência de compras, tambem foi classificado por categoria Diamente, Ouro, Prata, Bronze e Latão.. onde conseguimos observar o seu mix de produtos mais consumidos, as suas respectivas representações, e também particularidades, inclusive podemos observar que os consumidores mais bem rankeados não tem necessariamente a maior frequência, porém a quantidade de compra é maior, e como temos apenas a informação do código único, podemos deduzir ser um cliente de ticket médio alto, revendedor, etc.. o que podemos também aproveitar e definir uma politica de bonificação para o incentivo de compras para cada categoria, assim podendo estabelecer um melhor relacionamento, além de impulsionar as vendas, visto que se o cliente também poderá tornar a sua revenda mais competitiva. para os demais consumidores, uma politica que incentive a subir de nível, assim tambem usufruindo de descontos e bonificações, tambem foi possível observar um aumento nas vendas dos ultimos meses, mostrando uma maior retenção. para um próximo passo, e interessante analisar mais a fundo toda a categoria de produtos, para implementar aos clientes os produtos menos vendidos e mais baratos, podendo usar como brindes, incentivando o aumento no consumo."
   ]
  },
  {
   "cell_type": "markdown",
   "metadata": {},
   "source": [
    "### Link da Apresentação:\n",
    "\n",
    "https://docs.google.com/presentation/d/1d22jGBVGVDj41pZZXErXC9IABqJrec9PzRcOC8_r-4Y/edit#slide=id.p"
   ]
  },
  {
   "cell_type": "code",
   "execution_count": null,
   "metadata": {},
   "outputs": [],
   "source": []
  }
 ],
 "metadata": {
  "ExecuteTimeLog": [
   {
    "duration": 810,
    "start_time": "2025-01-06T16:48:03.468Z"
   },
   {
    "duration": 62,
    "start_time": "2025-01-06T16:48:28.683Z"
   },
   {
    "duration": 114,
    "start_time": "2025-01-06T16:56:00.984Z"
   },
   {
    "duration": 61,
    "start_time": "2025-01-06T17:07:23.440Z"
   },
   {
    "duration": 60,
    "start_time": "2025-01-06T17:07:31.534Z"
   },
   {
    "duration": 48,
    "start_time": "2025-01-06T17:20:56.354Z"
   },
   {
    "duration": 48,
    "start_time": "2025-01-06T17:22:54.149Z"
   },
   {
    "duration": 47,
    "start_time": "2025-01-06T17:26:57.316Z"
   },
   {
    "duration": 61,
    "start_time": "2025-01-06T17:31:49.179Z"
   },
   {
    "duration": 60,
    "start_time": "2025-01-06T17:32:22.424Z"
   },
   {
    "duration": 61,
    "start_time": "2025-01-06T17:45:18.778Z"
   },
   {
    "duration": 57,
    "start_time": "2025-01-06T17:45:30.934Z"
   },
   {
    "duration": 58,
    "start_time": "2025-01-06T17:51:00.418Z"
   },
   {
    "duration": 49,
    "start_time": "2025-01-06T17:53:03.795Z"
   },
   {
    "duration": 46,
    "start_time": "2025-01-06T17:53:37.887Z"
   },
   {
    "duration": 59,
    "start_time": "2025-01-06T18:02:11.625Z"
   },
   {
    "duration": 48,
    "start_time": "2025-01-06T18:10:38.450Z"
   },
   {
    "duration": 50,
    "start_time": "2025-01-06T18:17:14.273Z"
   },
   {
    "duration": 48,
    "start_time": "2025-01-06T18:19:57.548Z"
   },
   {
    "duration": 46,
    "start_time": "2025-01-06T18:21:52.183Z"
   },
   {
    "duration": 586,
    "start_time": "2025-01-06T18:22:00.772Z"
   },
   {
    "duration": 6,
    "start_time": "2025-01-06T18:22:24.266Z"
   },
   {
    "duration": 569,
    "start_time": "2025-01-06T18:23:07.244Z"
   },
   {
    "duration": 25,
    "start_time": "2025-01-06T18:23:56.527Z"
   },
   {
    "duration": 600,
    "start_time": "2025-01-06T18:24:34.321Z"
   },
   {
    "duration": 397,
    "start_time": "2025-01-06T18:24:48.737Z"
   },
   {
    "duration": 64,
    "start_time": "2025-01-06T18:24:56.601Z"
   },
   {
    "duration": 48,
    "start_time": "2025-01-06T18:25:36.937Z"
   },
   {
    "duration": 13,
    "start_time": "2025-01-06T18:26:05.250Z"
   },
   {
    "duration": 14,
    "start_time": "2025-01-06T18:26:17.544Z"
   },
   {
    "duration": 3,
    "start_time": "2025-01-06T18:26:27.559Z"
   },
   {
    "duration": 373,
    "start_time": "2025-01-06T18:26:51.722Z"
   },
   {
    "duration": 7,
    "start_time": "2025-01-06T20:27:29.203Z"
   },
   {
    "duration": 107,
    "start_time": "2025-01-06T20:28:47.335Z"
   },
   {
    "duration": 18,
    "start_time": "2025-01-06T20:29:12.649Z"
   },
   {
    "duration": 11,
    "start_time": "2025-01-06T20:29:48.115Z"
   },
   {
    "duration": 12,
    "start_time": "2025-01-06T20:29:59.373Z"
   },
   {
    "duration": 16,
    "start_time": "2025-01-06T20:34:07.147Z"
   },
   {
    "duration": 11,
    "start_time": "2025-01-06T20:34:20.175Z"
   },
   {
    "duration": 371,
    "start_time": "2025-01-06T20:35:29.321Z"
   },
   {
    "duration": 3,
    "start_time": "2025-01-06T20:35:29.694Z"
   },
   {
    "duration": 75,
    "start_time": "2025-01-06T20:35:29.699Z"
   },
   {
    "duration": 50,
    "start_time": "2025-01-06T20:35:29.776Z"
   },
   {
    "duration": 131,
    "start_time": "2025-01-06T20:35:29.828Z"
   },
   {
    "duration": 138,
    "start_time": "2025-01-06T20:35:46.082Z"
   },
   {
    "duration": 11,
    "start_time": "2025-01-06T20:39:31.753Z"
   },
   {
    "duration": 356,
    "start_time": "2025-01-06T20:39:38.501Z"
   },
   {
    "duration": 3,
    "start_time": "2025-01-06T20:39:38.859Z"
   },
   {
    "duration": 71,
    "start_time": "2025-01-06T20:39:38.864Z"
   },
   {
    "duration": 42,
    "start_time": "2025-01-06T20:39:38.937Z"
   },
   {
    "duration": 139,
    "start_time": "2025-01-06T20:39:38.981Z"
   },
   {
    "duration": 13,
    "start_time": "2025-01-06T20:39:39.122Z"
   },
   {
    "duration": 1228,
    "start_time": "2025-01-06T20:40:33.534Z"
   },
   {
    "duration": 52,
    "start_time": "2025-01-06T20:41:42.800Z"
   },
   {
    "duration": 4,
    "start_time": "2025-01-06T21:01:31.978Z"
   },
   {
    "duration": 19,
    "start_time": "2025-01-06T21:02:03.600Z"
   },
   {
    "duration": 19,
    "start_time": "2025-01-06T21:02:15.676Z"
   },
   {
    "duration": 20,
    "start_time": "2025-01-06T21:03:00.759Z"
   },
   {
    "duration": 164,
    "start_time": "2025-01-06T21:04:47.045Z"
   },
   {
    "duration": 10,
    "start_time": "2025-01-06T21:06:48.658Z"
   },
   {
    "duration": 164,
    "start_time": "2025-01-06T21:07:02.414Z"
   },
   {
    "duration": 163,
    "start_time": "2025-01-06T21:07:24.104Z"
   },
   {
    "duration": 616,
    "start_time": "2025-01-06T21:07:35.030Z"
   },
   {
    "duration": 158,
    "start_time": "2025-01-06T21:07:55.380Z"
   },
   {
    "duration": 41,
    "start_time": "2025-01-06T22:48:49.353Z"
   },
   {
    "duration": 551,
    "start_time": "2025-01-06T22:49:08.732Z"
   },
   {
    "duration": 345,
    "start_time": "2025-01-06T22:49:15.298Z"
   },
   {
    "duration": 3,
    "start_time": "2025-01-06T22:49:15.646Z"
   },
   {
    "duration": 76,
    "start_time": "2025-01-06T22:49:15.650Z"
   },
   {
    "duration": 42,
    "start_time": "2025-01-06T22:49:15.728Z"
   },
   {
    "duration": 149,
    "start_time": "2025-01-06T22:49:15.773Z"
   },
   {
    "duration": 1237,
    "start_time": "2025-01-06T22:49:15.924Z"
   },
   {
    "duration": 64,
    "start_time": "2025-01-06T22:49:17.163Z"
   },
   {
    "duration": 23,
    "start_time": "2025-01-06T22:49:17.229Z"
   },
   {
    "duration": 183,
    "start_time": "2025-01-06T22:49:17.254Z"
   },
   {
    "duration": 184,
    "start_time": "2025-01-06T22:49:17.439Z"
   },
   {
    "duration": 150,
    "start_time": "2025-01-06T22:49:17.626Z"
   },
   {
    "duration": 158,
    "start_time": "2025-01-06T22:49:17.778Z"
   },
   {
    "duration": 47,
    "start_time": "2025-01-06T22:49:31.280Z"
   },
   {
    "duration": 343,
    "start_time": "2025-01-06T22:49:51.461Z"
   },
   {
    "duration": 3,
    "start_time": "2025-01-06T22:49:51.806Z"
   },
   {
    "duration": 65,
    "start_time": "2025-01-06T22:49:51.812Z"
   },
   {
    "duration": 58,
    "start_time": "2025-01-06T22:49:51.880Z"
   },
   {
    "duration": 119,
    "start_time": "2025-01-06T22:49:51.941Z"
   },
   {
    "duration": 1257,
    "start_time": "2025-01-06T22:49:52.062Z"
   },
   {
    "duration": 61,
    "start_time": "2025-01-06T22:49:53.322Z"
   },
   {
    "duration": 31,
    "start_time": "2025-01-06T22:49:53.386Z"
   },
   {
    "duration": 179,
    "start_time": "2025-01-06T22:49:53.420Z"
   },
   {
    "duration": 178,
    "start_time": "2025-01-06T22:49:53.601Z"
   },
   {
    "duration": 154,
    "start_time": "2025-01-06T22:49:53.781Z"
   },
   {
    "duration": 46,
    "start_time": "2025-01-06T22:49:53.937Z"
   },
   {
    "duration": 10,
    "start_time": "2025-01-06T22:51:44.005Z"
   },
   {
    "duration": 6,
    "start_time": "2025-01-06T23:01:30.558Z"
   },
   {
    "duration": 42,
    "start_time": "2025-01-06T23:24:13.829Z"
   },
   {
    "duration": 12,
    "start_time": "2025-01-06T23:24:21.499Z"
   },
   {
    "duration": 11,
    "start_time": "2025-01-06T23:24:46.184Z"
   },
   {
    "duration": 5,
    "start_time": "2025-01-06T23:37:47.267Z"
   },
   {
    "duration": 5,
    "start_time": "2025-01-06T23:38:28.793Z"
   },
   {
    "duration": 2039,
    "start_time": "2025-01-06T23:43:32.830Z"
   },
   {
    "duration": 255,
    "start_time": "2025-01-06T23:43:54.702Z"
   },
   {
    "duration": 11,
    "start_time": "2025-01-06T23:48:30.144Z"
   },
   {
    "duration": 53,
    "start_time": "2025-01-06T23:49:50.070Z"
   },
   {
    "duration": 157,
    "start_time": "2025-01-06T23:51:47.231Z"
   },
   {
    "duration": 70,
    "start_time": "2025-01-06T23:52:32.207Z"
   },
   {
    "duration": 2393,
    "start_time": "2025-01-06T23:52:51.878Z"
   },
   {
    "duration": 224,
    "start_time": "2025-01-06T23:59:49.920Z"
   },
   {
    "duration": 179,
    "start_time": "2025-01-07T00:18:49.641Z"
   },
   {
    "duration": 42,
    "start_time": "2025-01-07T00:20:28.068Z"
   },
   {
    "duration": 363,
    "start_time": "2025-01-07T00:20:55.825Z"
   },
   {
    "duration": 3,
    "start_time": "2025-01-07T00:20:56.191Z"
   },
   {
    "duration": 75,
    "start_time": "2025-01-07T00:20:56.197Z"
   },
   {
    "duration": 51,
    "start_time": "2025-01-07T00:20:56.274Z"
   },
   {
    "duration": 127,
    "start_time": "2025-01-07T00:20:56.328Z"
   },
   {
    "duration": 1255,
    "start_time": "2025-01-07T00:20:56.457Z"
   },
   {
    "duration": 52,
    "start_time": "2025-01-07T00:20:57.713Z"
   },
   {
    "duration": 20,
    "start_time": "2025-01-07T00:20:57.767Z"
   },
   {
    "duration": 184,
    "start_time": "2025-01-07T00:20:57.789Z"
   },
   {
    "duration": 158,
    "start_time": "2025-01-07T00:20:57.975Z"
   },
   {
    "duration": 142,
    "start_time": "2025-01-07T00:20:58.135Z"
   },
   {
    "duration": 9,
    "start_time": "2025-01-07T00:20:58.279Z"
   },
   {
    "duration": 5,
    "start_time": "2025-01-07T00:20:58.290Z"
   },
   {
    "duration": 31,
    "start_time": "2025-01-07T00:20:58.312Z"
   },
   {
    "duration": 27,
    "start_time": "2025-01-07T00:22:44.902Z"
   },
   {
    "duration": 21,
    "start_time": "2025-01-07T00:25:40.917Z"
   },
   {
    "duration": 25,
    "start_time": "2025-01-07T00:26:10.988Z"
   },
   {
    "duration": 155,
    "start_time": "2025-01-07T00:26:19.097Z"
   },
   {
    "duration": 5,
    "start_time": "2025-01-07T00:27:04.681Z"
   },
   {
    "duration": 24,
    "start_time": "2025-01-07T00:46:21.621Z"
   },
   {
    "duration": 23,
    "start_time": "2025-01-07T00:48:15.185Z"
   },
   {
    "duration": 99,
    "start_time": "2025-01-07T01:14:17.953Z"
   },
   {
    "duration": 135,
    "start_time": "2025-01-07T01:14:34.997Z"
   },
   {
    "duration": 44,
    "start_time": "2025-01-07T01:17:56.956Z"
   },
   {
    "duration": 43,
    "start_time": "2025-01-07T01:19:00.105Z"
   },
   {
    "duration": 42,
    "start_time": "2025-01-07T01:20:00.025Z"
   },
   {
    "duration": 357,
    "start_time": "2025-01-07T01:20:38.418Z"
   },
   {
    "duration": 3,
    "start_time": "2025-01-07T01:20:38.777Z"
   },
   {
    "duration": 75,
    "start_time": "2025-01-07T01:20:38.782Z"
   },
   {
    "duration": 42,
    "start_time": "2025-01-07T01:20:38.860Z"
   },
   {
    "duration": 124,
    "start_time": "2025-01-07T01:20:38.912Z"
   },
   {
    "duration": 1270,
    "start_time": "2025-01-07T01:20:39.038Z"
   },
   {
    "duration": 59,
    "start_time": "2025-01-07T01:20:40.309Z"
   },
   {
    "duration": 19,
    "start_time": "2025-01-07T01:20:40.370Z"
   },
   {
    "duration": 183,
    "start_time": "2025-01-07T01:20:40.391Z"
   },
   {
    "duration": 201,
    "start_time": "2025-01-07T01:20:40.577Z"
   },
   {
    "duration": 144,
    "start_time": "2025-01-07T01:20:40.779Z"
   },
   {
    "duration": 8,
    "start_time": "2025-01-07T01:20:40.926Z"
   },
   {
    "duration": 5,
    "start_time": "2025-01-07T01:20:40.936Z"
   },
   {
    "duration": 174,
    "start_time": "2025-01-07T01:20:40.944Z"
   },
   {
    "duration": 24,
    "start_time": "2025-01-07T01:20:41.120Z"
   },
   {
    "duration": 27,
    "start_time": "2025-01-07T01:20:41.145Z"
   },
   {
    "duration": 46,
    "start_time": "2025-01-07T01:21:02.234Z"
   },
   {
    "duration": 46,
    "start_time": "2025-01-07T01:22:31.353Z"
   },
   {
    "duration": 40,
    "start_time": "2025-01-07T01:23:17.097Z"
   },
   {
    "duration": 358,
    "start_time": "2025-01-07T01:24:20.902Z"
   },
   {
    "duration": 2,
    "start_time": "2025-01-07T01:24:21.263Z"
   },
   {
    "duration": 78,
    "start_time": "2025-01-07T01:24:21.267Z"
   },
   {
    "duration": 41,
    "start_time": "2025-01-07T01:24:21.347Z"
   },
   {
    "duration": 144,
    "start_time": "2025-01-07T01:24:21.391Z"
   },
   {
    "duration": 1224,
    "start_time": "2025-01-07T01:24:21.539Z"
   },
   {
    "duration": 59,
    "start_time": "2025-01-07T01:24:22.764Z"
   },
   {
    "duration": 20,
    "start_time": "2025-01-07T01:24:22.824Z"
   },
   {
    "duration": 185,
    "start_time": "2025-01-07T01:24:22.846Z"
   },
   {
    "duration": 186,
    "start_time": "2025-01-07T01:24:23.033Z"
   },
   {
    "duration": 163,
    "start_time": "2025-01-07T01:24:23.221Z"
   },
   {
    "duration": 9,
    "start_time": "2025-01-07T01:24:23.385Z"
   },
   {
    "duration": 18,
    "start_time": "2025-01-07T01:24:23.396Z"
   },
   {
    "duration": 25,
    "start_time": "2025-01-07T01:24:23.418Z"
   },
   {
    "duration": 46,
    "start_time": "2025-01-07T01:24:23.444Z"
   },
   {
    "duration": 172,
    "start_time": "2025-01-07T01:24:23.491Z"
   },
   {
    "duration": 23,
    "start_time": "2025-01-07T01:58:34.931Z"
   },
   {
    "duration": 276,
    "start_time": "2025-01-07T02:04:34.121Z"
   },
   {
    "duration": 25,
    "start_time": "2025-01-07T02:07:33.357Z"
   },
   {
    "duration": 33,
    "start_time": "2025-01-07T02:14:10.950Z"
   },
   {
    "duration": 29,
    "start_time": "2025-01-07T02:15:03.031Z"
   },
   {
    "duration": 39,
    "start_time": "2025-01-07T02:20:54.300Z"
   },
   {
    "duration": 381,
    "start_time": "2025-01-07T02:21:18.100Z"
   },
   {
    "duration": 3,
    "start_time": "2025-01-07T02:21:18.483Z"
   },
   {
    "duration": 76,
    "start_time": "2025-01-07T02:21:18.488Z"
   },
   {
    "duration": 48,
    "start_time": "2025-01-07T02:21:18.567Z"
   },
   {
    "duration": 135,
    "start_time": "2025-01-07T02:21:18.616Z"
   },
   {
    "duration": 1235,
    "start_time": "2025-01-07T02:21:18.753Z"
   },
   {
    "duration": 59,
    "start_time": "2025-01-07T02:21:19.989Z"
   },
   {
    "duration": 21,
    "start_time": "2025-01-07T02:21:20.050Z"
   },
   {
    "duration": 199,
    "start_time": "2025-01-07T02:21:20.073Z"
   },
   {
    "duration": 184,
    "start_time": "2025-01-07T02:21:20.276Z"
   },
   {
    "duration": 160,
    "start_time": "2025-01-07T02:21:20.462Z"
   },
   {
    "duration": 10,
    "start_time": "2025-01-07T02:21:20.624Z"
   },
   {
    "duration": 5,
    "start_time": "2025-01-07T02:21:20.636Z"
   },
   {
    "duration": 24,
    "start_time": "2025-01-07T02:21:20.642Z"
   },
   {
    "duration": 73,
    "start_time": "2025-01-07T02:21:20.667Z"
   },
   {
    "duration": 163,
    "start_time": "2025-01-07T02:21:20.742Z"
   },
   {
    "duration": 42,
    "start_time": "2025-01-07T02:21:20.911Z"
   },
   {
    "duration": 29,
    "start_time": "2025-01-07T02:24:36.946Z"
   },
   {
    "duration": 37,
    "start_time": "2025-01-07T02:24:57.017Z"
   },
   {
    "duration": 28,
    "start_time": "2025-01-07T02:28:02.245Z"
   },
   {
    "duration": 37,
    "start_time": "2025-01-07T10:58:24.838Z"
   },
   {
    "duration": 29,
    "start_time": "2025-01-07T10:58:41.201Z"
   },
   {
    "duration": 37,
    "start_time": "2025-01-07T11:00:11.514Z"
   },
   {
    "duration": 30,
    "start_time": "2025-01-07T11:02:27.733Z"
   },
   {
    "duration": 28,
    "start_time": "2025-01-07T11:04:48.941Z"
   },
   {
    "duration": 19,
    "start_time": "2025-01-07T11:07:02.729Z"
   },
   {
    "duration": 20,
    "start_time": "2025-01-07T11:07:25.079Z"
   },
   {
    "duration": 28,
    "start_time": "2025-01-07T11:08:07.712Z"
   },
   {
    "duration": 20,
    "start_time": "2025-01-07T11:08:51.722Z"
   },
   {
    "duration": 23,
    "start_time": "2025-01-07T11:09:24.326Z"
   },
   {
    "duration": 149,
    "start_time": "2025-01-07T11:12:59.493Z"
   },
   {
    "duration": 15,
    "start_time": "2025-01-07T11:32:31.196Z"
   },
   {
    "duration": 7,
    "start_time": "2025-01-07T11:33:41.698Z"
   },
   {
    "duration": 45,
    "start_time": "2025-01-07T11:53:38.760Z"
   },
   {
    "duration": 25,
    "start_time": "2025-01-07T12:44:29.027Z"
   },
   {
    "duration": 24,
    "start_time": "2025-01-07T12:46:04.053Z"
   },
   {
    "duration": 23,
    "start_time": "2025-01-07T12:46:22.104Z"
   },
   {
    "duration": 71,
    "start_time": "2025-01-07T12:47:54.876Z"
   },
   {
    "duration": 65,
    "start_time": "2025-01-07T12:48:24.831Z"
   },
   {
    "duration": 100,
    "start_time": "2025-01-07T12:51:06.218Z"
   },
   {
    "duration": 99,
    "start_time": "2025-01-07T12:53:33.310Z"
   },
   {
    "duration": 370,
    "start_time": "2025-01-07T13:02:37.224Z"
   },
   {
    "duration": 3,
    "start_time": "2025-01-07T13:02:37.597Z"
   },
   {
    "duration": 70,
    "start_time": "2025-01-07T13:02:37.602Z"
   },
   {
    "duration": 54,
    "start_time": "2025-01-07T13:02:37.675Z"
   },
   {
    "duration": 122,
    "start_time": "2025-01-07T13:02:37.731Z"
   },
   {
    "duration": 1221,
    "start_time": "2025-01-07T13:02:37.855Z"
   },
   {
    "duration": 64,
    "start_time": "2025-01-07T13:02:39.078Z"
   },
   {
    "duration": 23,
    "start_time": "2025-01-07T13:02:39.144Z"
   },
   {
    "duration": 191,
    "start_time": "2025-01-07T13:02:39.170Z"
   },
   {
    "duration": 189,
    "start_time": "2025-01-07T13:02:39.365Z"
   },
   {
    "duration": 161,
    "start_time": "2025-01-07T13:02:39.556Z"
   },
   {
    "duration": 9,
    "start_time": "2025-01-07T13:02:39.718Z"
   },
   {
    "duration": 5,
    "start_time": "2025-01-07T13:02:39.728Z"
   },
   {
    "duration": 23,
    "start_time": "2025-01-07T13:02:39.735Z"
   },
   {
    "duration": 76,
    "start_time": "2025-01-07T13:02:39.760Z"
   },
   {
    "duration": 31,
    "start_time": "2025-01-07T13:02:39.837Z"
   },
   {
    "duration": 20,
    "start_time": "2025-01-07T13:02:39.870Z"
   },
   {
    "duration": 131,
    "start_time": "2025-01-07T13:02:39.892Z"
   },
   {
    "duration": 160,
    "start_time": "2025-01-07T13:02:40.025Z"
   },
   {
    "duration": 96,
    "start_time": "2025-01-07T13:04:49.537Z"
   },
   {
    "duration": 19,
    "start_time": "2025-01-07T13:17:50.822Z"
   },
   {
    "duration": 44,
    "start_time": "2025-01-07T13:18:02.181Z"
   },
   {
    "duration": 51,
    "start_time": "2025-01-07T13:34:31.679Z"
   },
   {
    "duration": 54,
    "start_time": "2025-01-07T13:35:05.172Z"
   },
   {
    "duration": 51,
    "start_time": "2025-01-07T13:36:40.248Z"
   },
   {
    "duration": 2,
    "start_time": "2025-01-07T14:29:47.447Z"
   },
   {
    "duration": 12,
    "start_time": "2025-01-07T14:37:03.879Z"
   },
   {
    "duration": 11,
    "start_time": "2025-01-07T14:38:06.356Z"
   },
   {
    "duration": 10,
    "start_time": "2025-01-07T14:39:09.323Z"
   },
   {
    "duration": 30,
    "start_time": "2025-01-07T14:43:24.071Z"
   },
   {
    "duration": 24,
    "start_time": "2025-01-07T14:44:19.999Z"
   },
   {
    "duration": 25,
    "start_time": "2025-01-07T14:44:37.357Z"
   },
   {
    "duration": 26,
    "start_time": "2025-01-07T14:45:12.319Z"
   },
   {
    "duration": 25,
    "start_time": "2025-01-07T14:45:34.293Z"
   },
   {
    "duration": 100,
    "start_time": "2025-01-07T14:48:18.796Z"
   },
   {
    "duration": 30,
    "start_time": "2025-01-07T14:48:37.638Z"
   },
   {
    "duration": 129,
    "start_time": "2025-01-07T15:14:29.107Z"
   },
   {
    "duration": 50,
    "start_time": "2025-01-07T15:15:22.580Z"
   },
   {
    "duration": 47,
    "start_time": "2025-01-07T15:15:40.647Z"
   },
   {
    "duration": 50,
    "start_time": "2025-01-07T15:16:16.665Z"
   },
   {
    "duration": 4,
    "start_time": "2025-01-07T15:18:06.628Z"
   },
   {
    "duration": 49,
    "start_time": "2025-01-07T15:18:42.181Z"
   },
   {
    "duration": 13,
    "start_time": "2025-01-07T15:19:49.171Z"
   },
   {
    "duration": 3,
    "start_time": "2025-01-07T15:20:01.098Z"
   },
   {
    "duration": 51,
    "start_time": "2025-01-07T15:28:32.644Z"
   },
   {
    "duration": 49,
    "start_time": "2025-01-07T15:28:55.713Z"
   },
   {
    "duration": 1335,
    "start_time": "2025-01-07T15:32:15.027Z"
   },
   {
    "duration": 26,
    "start_time": "2025-01-07T15:32:24.321Z"
   },
   {
    "duration": 129,
    "start_time": "2025-01-07T15:32:31.635Z"
   },
   {
    "duration": 391,
    "start_time": "2025-01-07T15:32:39.409Z"
   },
   {
    "duration": 11,
    "start_time": "2025-01-07T15:32:39.802Z"
   },
   {
    "duration": 64,
    "start_time": "2025-01-07T15:32:39.815Z"
   },
   {
    "duration": 52,
    "start_time": "2025-01-07T15:32:39.882Z"
   },
   {
    "duration": 123,
    "start_time": "2025-01-07T15:32:39.936Z"
   },
   {
    "duration": 1217,
    "start_time": "2025-01-07T15:32:40.061Z"
   },
   {
    "duration": 61,
    "start_time": "2025-01-07T15:32:41.280Z"
   },
   {
    "duration": 23,
    "start_time": "2025-01-07T15:32:41.343Z"
   },
   {
    "duration": 165,
    "start_time": "2025-01-07T15:32:41.368Z"
   },
   {
    "duration": 164,
    "start_time": "2025-01-07T15:32:41.536Z"
   },
   {
    "duration": 136,
    "start_time": "2025-01-07T15:32:41.701Z"
   },
   {
    "duration": 9,
    "start_time": "2025-01-07T15:32:41.838Z"
   },
   {
    "duration": 4,
    "start_time": "2025-01-07T15:32:41.850Z"
   },
   {
    "duration": 24,
    "start_time": "2025-01-07T15:32:41.856Z"
   },
   {
    "duration": 72,
    "start_time": "2025-01-07T15:32:41.882Z"
   },
   {
    "duration": 31,
    "start_time": "2025-01-07T15:32:41.956Z"
   },
   {
    "duration": 40,
    "start_time": "2025-01-07T15:32:41.989Z"
   },
   {
    "duration": 92,
    "start_time": "2025-01-07T15:32:42.030Z"
   },
   {
    "duration": 153,
    "start_time": "2025-01-07T15:32:42.124Z"
   },
   {
    "duration": 49,
    "start_time": "2025-01-07T15:32:42.279Z"
   },
   {
    "duration": 54,
    "start_time": "2025-01-07T15:32:42.330Z"
   },
   {
    "duration": 3,
    "start_time": "2025-01-07T15:32:42.387Z"
   },
   {
    "duration": 1022,
    "start_time": "2025-01-07T15:32:42.392Z"
   },
   {
    "duration": 28,
    "start_time": "2025-01-07T15:32:43.416Z"
   },
   {
    "duration": 142,
    "start_time": "2025-01-07T15:32:43.445Z"
   },
   {
    "duration": 128,
    "start_time": "2025-01-07T15:33:16.759Z"
   },
   {
    "duration": 81,
    "start_time": "2025-01-07T15:33:53.915Z"
   },
   {
    "duration": 3,
    "start_time": "2025-01-07T15:35:25.168Z"
   },
   {
    "duration": 113,
    "start_time": "2025-01-07T15:36:23.021Z"
   },
   {
    "duration": 38,
    "start_time": "2025-01-07T15:36:27.002Z"
   },
   {
    "duration": 36,
    "start_time": "2025-01-07T15:37:18.379Z"
   },
   {
    "duration": 36,
    "start_time": "2025-01-07T15:37:27.713Z"
   },
   {
    "duration": 29,
    "start_time": "2025-01-07T15:37:33.803Z"
   },
   {
    "duration": 134,
    "start_time": "2025-01-07T15:37:46.198Z"
   },
   {
    "duration": 130,
    "start_time": "2025-01-07T15:50:13.911Z"
   },
   {
    "duration": 149,
    "start_time": "2025-01-07T15:50:44.364Z"
   },
   {
    "duration": 533,
    "start_time": "2025-01-07T15:51:29.887Z"
   },
   {
    "duration": 153,
    "start_time": "2025-01-07T15:52:05.770Z"
   },
   {
    "duration": 356,
    "start_time": "2025-01-07T15:56:47.857Z"
   },
   {
    "duration": 295,
    "start_time": "2025-01-07T15:58:12.952Z"
   },
   {
    "duration": 267,
    "start_time": "2025-01-07T16:00:57.836Z"
   },
   {
    "duration": 264,
    "start_time": "2025-01-07T16:01:13.100Z"
   },
   {
    "duration": 219,
    "start_time": "2025-01-07T16:01:23.666Z"
   },
   {
    "duration": 273,
    "start_time": "2025-01-07T16:01:35.574Z"
   },
   {
    "duration": 252,
    "start_time": "2025-01-07T16:02:23.162Z"
   },
   {
    "duration": 276,
    "start_time": "2025-01-07T16:02:47.270Z"
   },
   {
    "duration": 266,
    "start_time": "2025-01-07T16:03:09.668Z"
   },
   {
    "duration": 281,
    "start_time": "2025-01-07T16:05:06.187Z"
   },
   {
    "duration": 229,
    "start_time": "2025-01-07T16:05:56.751Z"
   },
   {
    "duration": 260,
    "start_time": "2025-01-07T16:06:11.579Z"
   },
   {
    "duration": 278,
    "start_time": "2025-01-07T16:06:26.889Z"
   },
   {
    "duration": 51423,
    "start_time": "2025-01-07T16:31:03.717Z"
   },
   {
    "duration": 51658,
    "start_time": "2025-01-07T16:39:31.928Z"
   },
   {
    "duration": 51906,
    "start_time": "2025-01-07T16:41:20.185Z"
   },
   {
    "duration": 4,
    "start_time": "2025-01-07T16:47:12.567Z"
   },
   {
    "duration": 291,
    "start_time": "2025-01-07T16:47:20.964Z"
   },
   {
    "duration": 274,
    "start_time": "2025-01-07T16:47:43.492Z"
   },
   {
    "duration": 268,
    "start_time": "2025-01-07T16:48:37.524Z"
   },
   {
    "duration": 224,
    "start_time": "2025-01-07T16:49:02.777Z"
   },
   {
    "duration": 461,
    "start_time": "2025-01-07T17:12:40.003Z"
   },
   {
    "duration": 152,
    "start_time": "2025-01-07T17:16:06.647Z"
   },
   {
    "duration": 138,
    "start_time": "2025-01-07T17:16:17.917Z"
   },
   {
    "duration": 51,
    "start_time": "2025-01-07T17:19:10.953Z"
   },
   {
    "duration": 515,
    "start_time": "2025-01-07T17:20:20.669Z"
   },
   {
    "duration": 362,
    "start_time": "2025-01-07T17:26:46.587Z"
   },
   {
    "duration": 3,
    "start_time": "2025-01-07T17:26:46.951Z"
   },
   {
    "duration": 75,
    "start_time": "2025-01-07T17:26:46.956Z"
   },
   {
    "duration": 40,
    "start_time": "2025-01-07T17:26:47.032Z"
   },
   {
    "duration": 129,
    "start_time": "2025-01-07T17:26:47.076Z"
   },
   {
    "duration": 1255,
    "start_time": "2025-01-07T17:26:47.212Z"
   },
   {
    "duration": 63,
    "start_time": "2025-01-07T17:26:48.468Z"
   },
   {
    "duration": 30,
    "start_time": "2025-01-07T17:26:48.533Z"
   },
   {
    "duration": 156,
    "start_time": "2025-01-07T17:26:48.566Z"
   },
   {
    "duration": 162,
    "start_time": "2025-01-07T17:26:48.724Z"
   },
   {
    "duration": 138,
    "start_time": "2025-01-07T17:26:48.888Z"
   },
   {
    "duration": 8,
    "start_time": "2025-01-07T17:26:49.028Z"
   },
   {
    "duration": 5,
    "start_time": "2025-01-07T17:26:49.038Z"
   },
   {
    "duration": 22,
    "start_time": "2025-01-07T17:26:49.047Z"
   },
   {
    "duration": 72,
    "start_time": "2025-01-07T17:26:49.071Z"
   },
   {
    "duration": 31,
    "start_time": "2025-01-07T17:26:49.144Z"
   },
   {
    "duration": 19,
    "start_time": "2025-01-07T17:26:49.177Z"
   },
   {
    "duration": 101,
    "start_time": "2025-01-07T17:26:49.212Z"
   },
   {
    "duration": 157,
    "start_time": "2025-01-07T17:26:49.315Z"
   },
   {
    "duration": 52,
    "start_time": "2025-01-07T17:26:49.473Z"
   },
   {
    "duration": 49,
    "start_time": "2025-01-07T17:26:49.527Z"
   },
   {
    "duration": 4,
    "start_time": "2025-01-07T17:26:49.577Z"
   },
   {
    "duration": 5,
    "start_time": "2025-01-07T17:26:49.582Z"
   },
   {
    "duration": 23,
    "start_time": "2025-01-07T17:26:49.588Z"
   },
   {
    "duration": 66,
    "start_time": "2025-01-07T17:26:49.613Z"
   },
   {
    "duration": 48,
    "start_time": "2025-01-07T17:26:49.681Z"
   },
   {
    "duration": 257,
    "start_time": "2025-01-07T17:26:49.731Z"
   },
   {
    "duration": 233,
    "start_time": "2025-01-07T17:26:49.990Z"
   },
   {
    "duration": 521,
    "start_time": "2025-01-07T17:26:50.225Z"
   },
   {
    "duration": 175,
    "start_time": "2025-01-07T17:33:14.733Z"
   },
   {
    "duration": 168,
    "start_time": "2025-01-07T17:51:20.765Z"
   },
   {
    "duration": 635,
    "start_time": "2025-01-07T17:52:15.233Z"
   },
   {
    "duration": 3507,
    "start_time": "2025-01-07T17:55:27.628Z"
   },
   {
    "duration": 508,
    "start_time": "2025-01-07T17:56:38.904Z"
   },
   {
    "duration": 482,
    "start_time": "2025-01-07T17:57:03.210Z"
   },
   {
    "duration": 434,
    "start_time": "2025-01-07T17:57:51.391Z"
   },
   {
    "duration": 363,
    "start_time": "2025-01-07T17:58:37.846Z"
   },
   {
    "duration": 3,
    "start_time": "2025-01-07T17:58:38.212Z"
   },
   {
    "duration": 65,
    "start_time": "2025-01-07T17:58:38.217Z"
   },
   {
    "duration": 56,
    "start_time": "2025-01-07T17:58:38.284Z"
   },
   {
    "duration": 120,
    "start_time": "2025-01-07T17:58:38.344Z"
   },
   {
    "duration": 1223,
    "start_time": "2025-01-07T17:58:38.466Z"
   },
   {
    "duration": 62,
    "start_time": "2025-01-07T17:58:39.691Z"
   },
   {
    "duration": 23,
    "start_time": "2025-01-07T17:58:39.754Z"
   },
   {
    "duration": 177,
    "start_time": "2025-01-07T17:58:39.779Z"
   },
   {
    "duration": 168,
    "start_time": "2025-01-07T17:58:39.959Z"
   },
   {
    "duration": 141,
    "start_time": "2025-01-07T17:58:40.129Z"
   },
   {
    "duration": 9,
    "start_time": "2025-01-07T17:58:40.272Z"
   },
   {
    "duration": 4,
    "start_time": "2025-01-07T17:58:40.283Z"
   },
   {
    "duration": 43,
    "start_time": "2025-01-07T17:58:40.290Z"
   },
   {
    "duration": 46,
    "start_time": "2025-01-07T17:58:40.337Z"
   },
   {
    "duration": 45,
    "start_time": "2025-01-07T17:58:40.384Z"
   },
   {
    "duration": 18,
    "start_time": "2025-01-07T17:58:40.431Z"
   },
   {
    "duration": 103,
    "start_time": "2025-01-07T17:58:40.451Z"
   },
   {
    "duration": 159,
    "start_time": "2025-01-07T17:58:40.556Z"
   },
   {
    "duration": 44,
    "start_time": "2025-01-07T17:58:40.717Z"
   },
   {
    "duration": 67,
    "start_time": "2025-01-07T17:58:40.763Z"
   },
   {
    "duration": 3,
    "start_time": "2025-01-07T17:58:40.832Z"
   },
   {
    "duration": 3,
    "start_time": "2025-01-07T17:58:40.836Z"
   },
   {
    "duration": 5,
    "start_time": "2025-01-07T17:58:40.840Z"
   },
   {
    "duration": 87,
    "start_time": "2025-01-07T17:58:40.847Z"
   },
   {
    "duration": 35,
    "start_time": "2025-01-07T17:58:40.936Z"
   },
   {
    "duration": 286,
    "start_time": "2025-01-07T17:58:40.972Z"
   },
   {
    "duration": 247,
    "start_time": "2025-01-07T17:58:41.260Z"
   },
   {
    "duration": 443,
    "start_time": "2025-01-07T17:58:41.511Z"
   },
   {
    "duration": 413,
    "start_time": "2025-01-07T18:00:10.943Z"
   },
   {
    "duration": 418,
    "start_time": "2025-01-07T18:01:11.823Z"
   },
   {
    "duration": 321,
    "start_time": "2025-01-07T18:01:43.809Z"
   },
   {
    "duration": 5,
    "start_time": "2025-01-07T18:04:44.460Z"
   },
   {
    "duration": 321,
    "start_time": "2025-01-07T18:05:04.254Z"
   },
   {
    "duration": 329,
    "start_time": "2025-01-07T18:07:09.956Z"
   },
   {
    "duration": 314,
    "start_time": "2025-01-07T18:07:29.508Z"
   },
   {
    "duration": 317,
    "start_time": "2025-01-07T18:07:46.689Z"
   },
   {
    "duration": 324,
    "start_time": "2025-01-07T18:07:58.706Z"
   },
   {
    "duration": 319,
    "start_time": "2025-01-07T18:08:16.871Z"
   },
   {
    "duration": 319,
    "start_time": "2025-01-07T18:08:28.804Z"
   },
   {
    "duration": 337,
    "start_time": "2025-01-07T18:13:31.530Z"
   },
   {
    "duration": 131,
    "start_time": "2025-01-07T18:30:40.060Z"
   },
   {
    "duration": 132,
    "start_time": "2025-01-07T18:33:13.815Z"
   },
   {
    "duration": 145,
    "start_time": "2025-01-07T18:34:15.453Z"
   },
   {
    "duration": 132,
    "start_time": "2025-01-07T18:35:13.946Z"
   },
   {
    "duration": 360,
    "start_time": "2025-01-07T18:36:03.333Z"
   },
   {
    "duration": 3,
    "start_time": "2025-01-07T18:36:03.695Z"
   },
   {
    "duration": 72,
    "start_time": "2025-01-07T18:36:03.700Z"
   },
   {
    "duration": 50,
    "start_time": "2025-01-07T18:36:03.774Z"
   },
   {
    "duration": 127,
    "start_time": "2025-01-07T18:36:03.825Z"
   },
   {
    "duration": 1279,
    "start_time": "2025-01-07T18:36:03.954Z"
   },
   {
    "duration": 58,
    "start_time": "2025-01-07T18:36:05.235Z"
   },
   {
    "duration": 35,
    "start_time": "2025-01-07T18:36:05.294Z"
   },
   {
    "duration": 184,
    "start_time": "2025-01-07T18:36:05.331Z"
   },
   {
    "duration": 166,
    "start_time": "2025-01-07T18:36:05.525Z"
   },
   {
    "duration": 137,
    "start_time": "2025-01-07T18:36:05.692Z"
   },
   {
    "duration": 9,
    "start_time": "2025-01-07T18:36:05.831Z"
   },
   {
    "duration": 4,
    "start_time": "2025-01-07T18:36:05.842Z"
   },
   {
    "duration": 22,
    "start_time": "2025-01-07T18:36:05.848Z"
   },
   {
    "duration": 69,
    "start_time": "2025-01-07T18:36:05.872Z"
   },
   {
    "duration": 31,
    "start_time": "2025-01-07T18:36:05.942Z"
   },
   {
    "duration": 20,
    "start_time": "2025-01-07T18:36:05.974Z"
   },
   {
    "duration": 102,
    "start_time": "2025-01-07T18:36:06.013Z"
   },
   {
    "duration": 157,
    "start_time": "2025-01-07T18:36:06.117Z"
   },
   {
    "duration": 54,
    "start_time": "2025-01-07T18:36:06.276Z"
   },
   {
    "duration": 55,
    "start_time": "2025-01-07T18:36:06.332Z"
   },
   {
    "duration": 4,
    "start_time": "2025-01-07T18:36:06.388Z"
   },
   {
    "duration": 3,
    "start_time": "2025-01-07T18:36:06.412Z"
   },
   {
    "duration": 4,
    "start_time": "2025-01-07T18:36:06.417Z"
   },
   {
    "duration": 71,
    "start_time": "2025-01-07T18:36:06.422Z"
   },
   {
    "duration": 58,
    "start_time": "2025-01-07T18:36:06.495Z"
   },
   {
    "duration": 271,
    "start_time": "2025-01-07T18:36:06.555Z"
   },
   {
    "duration": 229,
    "start_time": "2025-01-07T18:36:06.829Z"
   },
   {
    "duration": 335,
    "start_time": "2025-01-07T18:36:07.060Z"
   },
   {
    "duration": 399,
    "start_time": "2025-01-07T18:36:07.397Z"
   },
   {
    "duration": 104,
    "start_time": "2025-01-07T18:36:23.830Z"
   },
   {
    "duration": 122,
    "start_time": "2025-01-07T18:36:56.216Z"
   },
   {
    "duration": 234,
    "start_time": "2025-01-07T18:39:27.719Z"
   },
   {
    "duration": 202,
    "start_time": "2025-01-07T18:39:45.216Z"
   },
   {
    "duration": 222,
    "start_time": "2025-01-07T18:39:56.515Z"
   },
   {
    "duration": 4,
    "start_time": "2025-01-07T18:41:49.625Z"
   },
   {
    "duration": 4,
    "start_time": "2025-01-07T18:41:56.684Z"
   },
   {
    "duration": 195,
    "start_time": "2025-01-07T18:42:29.930Z"
   },
   {
    "duration": 209,
    "start_time": "2025-01-07T18:43:53.633Z"
   },
   {
    "duration": 205,
    "start_time": "2025-01-07T18:45:41.719Z"
   },
   {
    "duration": 199,
    "start_time": "2025-01-07T18:45:52.924Z"
   },
   {
    "duration": 176,
    "start_time": "2025-01-07T18:46:15.174Z"
   },
   {
    "duration": 329,
    "start_time": "2025-01-07T18:49:33.133Z"
   },
   {
    "duration": 334,
    "start_time": "2025-01-07T18:50:03.737Z"
   },
   {
    "duration": 157,
    "start_time": "2025-01-08T11:16:10.249Z"
   },
   {
    "duration": 700,
    "start_time": "2025-01-08T11:16:15.803Z"
   },
   {
    "duration": 3,
    "start_time": "2025-01-08T11:16:16.505Z"
   },
   {
    "duration": 76,
    "start_time": "2025-01-08T11:16:16.510Z"
   },
   {
    "duration": 67,
    "start_time": "2025-01-08T11:16:16.587Z"
   },
   {
    "duration": 131,
    "start_time": "2025-01-08T11:16:16.658Z"
   },
   {
    "duration": 1273,
    "start_time": "2025-01-08T11:16:16.791Z"
   },
   {
    "duration": 61,
    "start_time": "2025-01-08T11:16:18.065Z"
   },
   {
    "duration": 20,
    "start_time": "2025-01-08T11:16:18.129Z"
   },
   {
    "duration": 214,
    "start_time": "2025-01-08T11:16:18.150Z"
   },
   {
    "duration": 204,
    "start_time": "2025-01-08T11:16:18.366Z"
   },
   {
    "duration": 166,
    "start_time": "2025-01-08T11:16:18.572Z"
   },
   {
    "duration": 9,
    "start_time": "2025-01-08T11:16:18.740Z"
   },
   {
    "duration": 4,
    "start_time": "2025-01-08T11:16:18.751Z"
   },
   {
    "duration": 25,
    "start_time": "2025-01-08T11:16:18.758Z"
   },
   {
    "duration": 68,
    "start_time": "2025-01-08T11:16:18.784Z"
   },
   {
    "duration": 30,
    "start_time": "2025-01-08T11:16:18.854Z"
   },
   {
    "duration": 18,
    "start_time": "2025-01-08T11:16:18.886Z"
   },
   {
    "duration": 118,
    "start_time": "2025-01-08T11:16:18.906Z"
   },
   {
    "duration": 1974,
    "start_time": "2025-01-08T11:16:19.026Z"
   },
   {
    "duration": 46,
    "start_time": "2025-01-08T11:16:21.002Z"
   },
   {
    "duration": 48,
    "start_time": "2025-01-08T11:16:21.051Z"
   },
   {
    "duration": 4,
    "start_time": "2025-01-08T11:16:21.100Z"
   },
   {
    "duration": 23,
    "start_time": "2025-01-08T11:16:21.105Z"
   },
   {
    "duration": 4,
    "start_time": "2025-01-08T11:16:21.129Z"
   },
   {
    "duration": 96,
    "start_time": "2025-01-08T11:16:21.134Z"
   },
   {
    "duration": 25,
    "start_time": "2025-01-08T11:16:21.232Z"
   },
   {
    "duration": 274,
    "start_time": "2025-01-08T11:16:21.259Z"
   },
   {
    "duration": 289,
    "start_time": "2025-01-08T11:16:21.535Z"
   },
   {
    "duration": 357,
    "start_time": "2025-01-08T11:16:21.826Z"
   },
   {
    "duration": 187,
    "start_time": "2025-01-08T11:16:22.185Z"
   },
   {
    "duration": 182,
    "start_time": "2025-01-08T11:16:22.374Z"
   },
   {
    "duration": 57,
    "start_time": "2025-01-08T11:16:52.183Z"
   },
   {
    "duration": 68,
    "start_time": "2025-01-08T11:18:25.249Z"
   },
   {
    "duration": 57,
    "start_time": "2025-01-08T11:19:16.264Z"
   },
   {
    "duration": 59,
    "start_time": "2025-01-08T11:19:30.746Z"
   },
   {
    "duration": 23,
    "start_time": "2025-01-08T11:22:58.613Z"
   },
   {
    "duration": 26,
    "start_time": "2025-01-08T11:32:12.507Z"
   },
   {
    "duration": 305,
    "start_time": "2025-01-08T12:04:28.129Z"
   },
   {
    "duration": 103,
    "start_time": "2025-01-08T12:05:13.210Z"
   },
   {
    "duration": 105,
    "start_time": "2025-01-08T12:05:47.245Z"
   },
   {
    "duration": 277,
    "start_time": "2025-01-08T12:09:48.785Z"
   },
   {
    "duration": 850,
    "start_time": "2025-01-08T12:10:17.145Z"
   },
   {
    "duration": 265,
    "start_time": "2025-01-08T12:11:29.708Z"
   },
   {
    "duration": 154,
    "start_time": "2025-01-08T12:11:42.933Z"
   },
   {
    "duration": 112,
    "start_time": "2025-01-08T12:11:52.462Z"
   },
   {
    "duration": 123,
    "start_time": "2025-01-08T12:12:17.877Z"
   },
   {
    "duration": 220,
    "start_time": "2025-01-08T12:13:11.314Z"
   },
   {
    "duration": 221,
    "start_time": "2025-01-08T12:13:40.662Z"
   },
   {
    "duration": 243,
    "start_time": "2025-01-08T12:14:08.351Z"
   },
   {
    "duration": 437,
    "start_time": "2025-01-08T12:14:26.766Z"
   },
   {
    "duration": 105,
    "start_time": "2025-01-08T12:16:18.265Z"
   },
   {
    "duration": 314,
    "start_time": "2025-01-08T12:16:59.871Z"
   },
   {
    "duration": 295,
    "start_time": "2025-01-08T12:18:34.154Z"
   },
   {
    "duration": 4,
    "start_time": "2025-01-08T12:33:32.851Z"
   },
   {
    "duration": 3,
    "start_time": "2025-01-08T12:33:48.431Z"
   },
   {
    "duration": 3,
    "start_time": "2025-01-08T12:34:28.650Z"
   },
   {
    "duration": 5,
    "start_time": "2025-01-08T12:34:55.642Z"
   },
   {
    "duration": 8,
    "start_time": "2025-01-08T13:02:06.063Z"
   },
   {
    "duration": 116,
    "start_time": "2025-01-08T13:02:31.640Z"
   },
   {
    "duration": 5,
    "start_time": "2025-01-08T13:23:06.836Z"
   },
   {
    "duration": 72,
    "start_time": "2025-01-08T13:30:00.033Z"
   },
   {
    "duration": 80,
    "start_time": "2025-01-08T13:32:34.939Z"
   },
   {
    "duration": 75,
    "start_time": "2025-01-08T13:32:53.529Z"
   },
   {
    "duration": 74,
    "start_time": "2025-01-08T13:33:20.435Z"
   },
   {
    "duration": 83,
    "start_time": "2025-01-08T13:35:59.371Z"
   },
   {
    "duration": 79,
    "start_time": "2025-01-08T13:36:46.519Z"
   },
   {
    "duration": 5,
    "start_time": "2025-01-08T13:37:50.577Z"
   },
   {
    "duration": 35,
    "start_time": "2025-01-08T13:38:45.443Z"
   },
   {
    "duration": 93,
    "start_time": "2025-01-08T13:50:09.487Z"
   },
   {
    "duration": 21,
    "start_time": "2025-01-08T13:50:49.940Z"
   },
   {
    "duration": 22,
    "start_time": "2025-01-08T13:53:40.834Z"
   },
   {
    "duration": 125,
    "start_time": "2025-01-08T14:07:41.662Z"
   },
   {
    "duration": 369,
    "start_time": "2025-01-08T14:08:00.577Z"
   },
   {
    "duration": 2,
    "start_time": "2025-01-08T14:08:00.948Z"
   },
   {
    "duration": 75,
    "start_time": "2025-01-08T14:08:00.952Z"
   },
   {
    "duration": 40,
    "start_time": "2025-01-08T14:08:01.030Z"
   },
   {
    "duration": 128,
    "start_time": "2025-01-08T14:08:01.072Z"
   },
   {
    "duration": 1241,
    "start_time": "2025-01-08T14:08:01.201Z"
   },
   {
    "duration": 53,
    "start_time": "2025-01-08T14:08:02.443Z"
   },
   {
    "duration": 33,
    "start_time": "2025-01-08T14:08:02.497Z"
   },
   {
    "duration": 164,
    "start_time": "2025-01-08T14:08:02.532Z"
   },
   {
    "duration": 166,
    "start_time": "2025-01-08T14:08:02.701Z"
   },
   {
    "duration": 142,
    "start_time": "2025-01-08T14:08:02.869Z"
   },
   {
    "duration": 18,
    "start_time": "2025-01-08T14:08:03.013Z"
   },
   {
    "duration": 5,
    "start_time": "2025-01-08T14:08:03.032Z"
   },
   {
    "duration": 22,
    "start_time": "2025-01-08T14:08:03.039Z"
   },
   {
    "duration": 71,
    "start_time": "2025-01-08T14:08:03.062Z"
   },
   {
    "duration": 32,
    "start_time": "2025-01-08T14:08:03.134Z"
   },
   {
    "duration": 19,
    "start_time": "2025-01-08T14:08:03.167Z"
   },
   {
    "duration": 120,
    "start_time": "2025-01-08T14:08:03.188Z"
   },
   {
    "duration": 157,
    "start_time": "2025-01-08T14:08:03.310Z"
   },
   {
    "duration": 38,
    "start_time": "2025-01-08T14:08:03.468Z"
   },
   {
    "duration": 51,
    "start_time": "2025-01-08T14:08:03.523Z"
   },
   {
    "duration": 3,
    "start_time": "2025-01-08T14:08:03.575Z"
   },
   {
    "duration": 3,
    "start_time": "2025-01-08T14:08:03.580Z"
   },
   {
    "duration": 4,
    "start_time": "2025-01-08T14:08:03.585Z"
   },
   {
    "duration": 294,
    "start_time": "2025-01-08T14:08:03.590Z"
   },
   {
    "duration": 38,
    "start_time": "2025-01-08T14:08:03.886Z"
   },
   {
    "duration": 268,
    "start_time": "2025-01-08T14:08:03.926Z"
   },
   {
    "duration": 234,
    "start_time": "2025-01-08T14:08:04.198Z"
   },
   {
    "duration": 297,
    "start_time": "2025-01-08T14:08:04.435Z"
   },
   {
    "duration": 214,
    "start_time": "2025-01-08T14:08:04.734Z"
   },
   {
    "duration": 74,
    "start_time": "2025-01-08T14:08:04.950Z"
   },
   {
    "duration": 55,
    "start_time": "2025-01-08T14:08:05.026Z"
   },
   {
    "duration": 41,
    "start_time": "2025-01-08T14:08:05.083Z"
   },
   {
    "duration": 141,
    "start_time": "2025-01-08T14:08:05.126Z"
   },
   {
    "duration": 9,
    "start_time": "2025-01-08T14:08:05.268Z"
   },
   {
    "duration": 9,
    "start_time": "2025-01-08T14:08:20.650Z"
   },
   {
    "duration": 97,
    "start_time": "2025-01-08T14:08:51.380Z"
   },
   {
    "duration": 21,
    "start_time": "2025-01-08T14:08:56.204Z"
   },
   {
    "duration": 15,
    "start_time": "2025-01-08T14:09:39.240Z"
   },
   {
    "duration": 13,
    "start_time": "2025-01-08T14:09:52.104Z"
   },
   {
    "duration": 5,
    "start_time": "2025-01-08T14:10:40.628Z"
   },
   {
    "duration": 143,
    "start_time": "2025-01-08T14:10:47.680Z"
   },
   {
    "duration": 5,
    "start_time": "2025-01-08T14:18:12.580Z"
   },
   {
    "duration": 159,
    "start_time": "2025-01-08T14:18:21.425Z"
   },
   {
    "duration": 63,
    "start_time": "2025-01-08T14:19:32.907Z"
   },
   {
    "duration": 55,
    "start_time": "2025-01-08T14:20:46.857Z"
   },
   {
    "duration": 54,
    "start_time": "2025-01-08T14:21:02.260Z"
   },
   {
    "duration": 44,
    "start_time": "2025-01-08T14:21:36.267Z"
   },
   {
    "duration": 141,
    "start_time": "2025-01-08T14:22:36.065Z"
   },
   {
    "duration": 119,
    "start_time": "2025-01-08T14:23:10.601Z"
   },
   {
    "duration": 121,
    "start_time": "2025-01-08T14:24:20.460Z"
   },
   {
    "duration": 118,
    "start_time": "2025-01-08T14:24:46.155Z"
   },
   {
    "duration": 115,
    "start_time": "2025-01-08T14:25:19.550Z"
   },
   {
    "duration": 115,
    "start_time": "2025-01-08T14:26:02.334Z"
   },
   {
    "duration": 117,
    "start_time": "2025-01-08T14:26:30.662Z"
   },
   {
    "duration": 1425,
    "start_time": "2025-01-08T14:52:44.092Z"
   },
   {
    "duration": 1234,
    "start_time": "2025-01-08T14:53:14.258Z"
   },
   {
    "duration": 31,
    "start_time": "2025-01-08T14:54:24.404Z"
   },
   {
    "duration": 16,
    "start_time": "2025-01-08T14:55:14.486Z"
   },
   {
    "duration": 1472,
    "start_time": "2025-01-08T14:55:42.536Z"
   },
   {
    "duration": 1050,
    "start_time": "2025-01-08T14:55:56.414Z"
   },
   {
    "duration": 1110,
    "start_time": "2025-01-08T14:56:08.533Z"
   },
   {
    "duration": 333,
    "start_time": "2025-01-08T14:59:00.814Z"
   },
   {
    "duration": 54,
    "start_time": "2025-01-08T14:59:33.866Z"
   },
   {
    "duration": 52,
    "start_time": "2025-01-08T14:59:42.085Z"
   },
   {
    "duration": 51,
    "start_time": "2025-01-08T14:59:48.146Z"
   },
   {
    "duration": 52,
    "start_time": "2025-01-08T15:00:25.581Z"
   },
   {
    "duration": 1072,
    "start_time": "2025-01-08T15:00:30.654Z"
   },
   {
    "duration": 1047,
    "start_time": "2025-01-08T15:00:59.675Z"
   },
   {
    "duration": 1058,
    "start_time": "2025-01-08T15:01:36.141Z"
   },
   {
    "duration": 1178,
    "start_time": "2025-01-08T15:08:33.098Z"
   },
   {
    "duration": 1092,
    "start_time": "2025-01-08T15:09:06.046Z"
   },
   {
    "duration": 1078,
    "start_time": "2025-01-08T15:10:33.212Z"
   },
   {
    "duration": 1065,
    "start_time": "2025-01-08T15:11:15.947Z"
   },
   {
    "duration": 3,
    "start_time": "2025-01-08T15:12:05.026Z"
   },
   {
    "duration": 1043,
    "start_time": "2025-01-08T15:12:19.991Z"
   },
   {
    "duration": 1201,
    "start_time": "2025-01-08T15:12:45.594Z"
   },
   {
    "duration": 1069,
    "start_time": "2025-01-08T15:13:04.017Z"
   },
   {
    "duration": 1056,
    "start_time": "2025-01-08T15:13:22.070Z"
   },
   {
    "duration": 1040,
    "start_time": "2025-01-08T15:13:43.691Z"
   },
   {
    "duration": 1095,
    "start_time": "2025-01-08T15:14:06.839Z"
   },
   {
    "duration": 1077,
    "start_time": "2025-01-08T15:14:34.714Z"
   },
   {
    "duration": 4,
    "start_time": "2025-01-08T16:30:27.117Z"
   },
   {
    "duration": 180,
    "start_time": "2025-01-08T16:38:44.685Z"
   },
   {
    "duration": 141,
    "start_time": "2025-01-08T16:39:22.010Z"
   },
   {
    "duration": 511,
    "start_time": "2025-01-08T16:48:58.985Z"
   },
   {
    "duration": 501,
    "start_time": "2025-01-08T16:49:32.896Z"
   },
   {
    "duration": 497,
    "start_time": "2025-01-08T16:50:34.412Z"
   },
   {
    "duration": 531,
    "start_time": "2025-01-08T16:51:01.214Z"
   },
   {
    "duration": 500,
    "start_time": "2025-01-08T16:51:08.710Z"
   },
   {
    "duration": 523,
    "start_time": "2025-01-08T16:51:22.101Z"
   },
   {
    "duration": 503,
    "start_time": "2025-01-08T16:52:42.871Z"
   },
   {
    "duration": 499,
    "start_time": "2025-01-08T16:52:46.717Z"
   },
   {
    "duration": 513,
    "start_time": "2025-01-08T16:53:07.258Z"
   },
   {
    "duration": 524,
    "start_time": "2025-01-08T16:54:14.836Z"
   },
   {
    "duration": 515,
    "start_time": "2025-01-08T16:54:43.750Z"
   },
   {
    "duration": 555,
    "start_time": "2025-01-08T16:55:33.887Z"
   },
   {
    "duration": 326,
    "start_time": "2025-01-08T17:02:33.136Z"
   },
   {
    "duration": 627,
    "start_time": "2025-01-08T17:04:50.634Z"
   },
   {
    "duration": 522,
    "start_time": "2025-01-08T17:13:01.312Z"
   },
   {
    "duration": 557,
    "start_time": "2025-01-08T17:13:13.714Z"
   },
   {
    "duration": 43,
    "start_time": "2025-01-08T17:14:24.664Z"
   },
   {
    "duration": 558,
    "start_time": "2025-01-08T17:15:18.769Z"
   },
   {
    "duration": 5,
    "start_time": "2025-01-08T17:23:22.575Z"
   },
   {
    "duration": 4,
    "start_time": "2025-01-08T17:23:30.658Z"
   },
   {
    "duration": 29,
    "start_time": "2025-01-08T17:25:00.277Z"
   },
   {
    "duration": 29,
    "start_time": "2025-01-08T17:25:15.196Z"
   },
   {
    "duration": 70,
    "start_time": "2025-01-08T17:25:51.315Z"
   },
   {
    "duration": 157,
    "start_time": "2025-01-08T17:26:24.421Z"
   },
   {
    "duration": 234,
    "start_time": "2025-01-08T17:27:14.383Z"
   },
   {
    "duration": 260,
    "start_time": "2025-01-08T17:27:43.482Z"
   },
   {
    "duration": 282,
    "start_time": "2025-01-08T17:30:11.321Z"
   },
   {
    "duration": 393,
    "start_time": "2025-01-08T17:41:31.403Z"
   },
   {
    "duration": 29016,
    "start_time": "2025-01-08T17:49:51.869Z"
   },
   {
    "duration": 947,
    "start_time": "2025-01-08T18:00:20.265Z"
   },
   {
    "duration": 3,
    "start_time": "2025-01-08T18:01:51.937Z"
   },
   {
    "duration": 490,
    "start_time": "2025-01-08T18:02:10.934Z"
   },
   {
    "duration": 514,
    "start_time": "2025-01-08T18:02:34.622Z"
   },
   {
    "duration": 401,
    "start_time": "2025-01-08T18:03:05.782Z"
   },
   {
    "duration": 376,
    "start_time": "2025-01-08T18:04:34.809Z"
   },
   {
    "duration": 373,
    "start_time": "2025-01-08T18:04:48.818Z"
   },
   {
    "duration": 27605,
    "start_time": "2025-01-08T18:15:19.382Z"
   },
   {
    "duration": 61,
    "start_time": "2025-01-08T18:20:21.744Z"
   },
   {
    "duration": 850,
    "start_time": "2025-01-08T18:25:03.447Z"
   },
   {
    "duration": 463,
    "start_time": "2025-01-08T18:26:45.190Z"
   },
   {
    "duration": 319,
    "start_time": "2025-01-08T18:27:26.241Z"
   },
   {
    "duration": 329,
    "start_time": "2025-01-08T18:28:01.838Z"
   },
   {
    "duration": 328,
    "start_time": "2025-01-08T18:32:29.562Z"
   },
   {
    "duration": 366,
    "start_time": "2025-01-08T18:37:10.289Z"
   },
   {
    "duration": 358,
    "start_time": "2025-01-08T18:37:28.119Z"
   },
   {
    "duration": 73,
    "start_time": "2025-01-08T18:40:09.248Z"
   },
   {
    "duration": 465,
    "start_time": "2025-01-08T18:42:30.542Z"
   },
   {
    "duration": 523,
    "start_time": "2025-01-08T18:43:02.001Z"
   },
   {
    "duration": 514,
    "start_time": "2025-01-08T19:00:31.594Z"
   },
   {
    "duration": 21,
    "start_time": "2025-01-08T19:00:55.487Z"
   },
   {
    "duration": 314,
    "start_time": "2025-01-08T19:06:47.433Z"
   },
   {
    "duration": 24738,
    "start_time": "2025-01-08T19:07:06.914Z"
   },
   {
    "duration": 3144,
    "start_time": "2025-01-08T19:09:25.146Z"
   },
   {
    "duration": 3625,
    "start_time": "2025-01-08T19:13:15.351Z"
   },
   {
    "duration": 3211,
    "start_time": "2025-01-08T19:13:50.097Z"
   },
   {
    "duration": 21,
    "start_time": "2025-01-08T19:26:23.831Z"
   },
   {
    "duration": 69034,
    "start_time": "2025-01-08T19:35:29.627Z"
   },
   {
    "duration": 516,
    "start_time": "2025-01-08T19:38:33.647Z"
   },
   {
    "duration": 146,
    "start_time": "2025-01-08T19:38:51.485Z"
   },
   {
    "duration": 485,
    "start_time": "2025-01-08T19:39:23.515Z"
   },
   {
    "duration": 521,
    "start_time": "2025-01-08T19:39:47.845Z"
   },
   {
    "duration": 517,
    "start_time": "2025-01-08T19:39:57.752Z"
   },
   {
    "duration": 494,
    "start_time": "2025-01-08T19:40:08.356Z"
   },
   {
    "duration": 458,
    "start_time": "2025-01-08T19:40:30.823Z"
   },
   {
    "duration": 497,
    "start_time": "2025-01-08T19:45:59.361Z"
   },
   {
    "duration": 19,
    "start_time": "2025-01-08T20:15:04.247Z"
   },
   {
    "duration": 66,
    "start_time": "2025-01-08T20:20:41.181Z"
   },
   {
    "duration": 136,
    "start_time": "2025-01-08T20:24:05.250Z"
   },
   {
    "duration": 137,
    "start_time": "2025-01-08T20:25:46.274Z"
   },
   {
    "duration": 375,
    "start_time": "2025-01-08T20:32:39.636Z"
   },
   {
    "duration": 139,
    "start_time": "2025-01-08T20:32:55.143Z"
   },
   {
    "duration": 135,
    "start_time": "2025-01-08T20:38:49.627Z"
   },
   {
    "duration": 49,
    "start_time": "2025-01-08T20:39:51.425Z"
   },
   {
    "duration": 50,
    "start_time": "2025-01-08T20:41:18.132Z"
   },
   {
    "duration": 61,
    "start_time": "2025-01-08T20:42:26.410Z"
   },
   {
    "duration": 49,
    "start_time": "2025-01-08T20:43:17.870Z"
   },
   {
    "duration": 50,
    "start_time": "2025-01-08T20:45:29.385Z"
   },
   {
    "duration": 58,
    "start_time": "2025-01-08T20:47:20.037Z"
   },
   {
    "duration": 30,
    "start_time": "2025-01-08T20:49:47.460Z"
   },
   {
    "duration": 29,
    "start_time": "2025-01-08T20:50:46.122Z"
   },
   {
    "duration": 36,
    "start_time": "2025-01-08T20:51:11.598Z"
   },
   {
    "duration": 40,
    "start_time": "2025-01-08T20:59:45.876Z"
   },
   {
    "duration": 39,
    "start_time": "2025-01-08T21:00:48.673Z"
   },
   {
    "duration": 41,
    "start_time": "2025-01-08T21:03:17.117Z"
   },
   {
    "duration": 37,
    "start_time": "2025-01-08T21:03:35.563Z"
   },
   {
    "duration": 36,
    "start_time": "2025-01-08T21:03:41.399Z"
   },
   {
    "duration": 31,
    "start_time": "2025-01-08T21:06:14.036Z"
   },
   {
    "duration": 41,
    "start_time": "2025-01-08T21:06:31.522Z"
   },
   {
    "duration": 35,
    "start_time": "2025-01-08T21:07:38.846Z"
   },
   {
    "duration": 31,
    "start_time": "2025-01-08T21:08:49.791Z"
   },
   {
    "duration": 5,
    "start_time": "2025-01-08T21:09:08.485Z"
   },
   {
    "duration": 4,
    "start_time": "2025-01-08T21:09:22.581Z"
   },
   {
    "duration": 5,
    "start_time": "2025-01-08T21:09:43.658Z"
   },
   {
    "duration": 3,
    "start_time": "2025-01-08T21:44:09.058Z"
   },
   {
    "duration": 16,
    "start_time": "2025-01-08T21:44:29.582Z"
   },
   {
    "duration": 16,
    "start_time": "2025-01-08T21:44:46.768Z"
   },
   {
    "duration": 3,
    "start_time": "2025-01-08T21:45:47.437Z"
   },
   {
    "duration": 16,
    "start_time": "2025-01-08T21:45:52.835Z"
   },
   {
    "duration": 5,
    "start_time": "2025-01-08T21:47:49.565Z"
   },
   {
    "duration": 36,
    "start_time": "2025-01-08T21:52:33.094Z"
   },
   {
    "duration": 33,
    "start_time": "2025-01-08T21:52:59.173Z"
   },
   {
    "duration": 33,
    "start_time": "2025-01-08T21:53:14.914Z"
   },
   {
    "duration": 30,
    "start_time": "2025-01-08T21:53:33.185Z"
   },
   {
    "duration": 31,
    "start_time": "2025-01-08T21:53:54.538Z"
   },
   {
    "duration": 31,
    "start_time": "2025-01-08T21:57:09.674Z"
   },
   {
    "duration": 3,
    "start_time": "2025-01-08T22:01:21.126Z"
   },
   {
    "duration": 4,
    "start_time": "2025-01-08T22:02:08.742Z"
   },
   {
    "duration": 4,
    "start_time": "2025-01-08T22:02:23.129Z"
   },
   {
    "duration": 5,
    "start_time": "2025-01-08T22:03:32.061Z"
   },
   {
    "duration": 5,
    "start_time": "2025-01-08T22:03:48.216Z"
   },
   {
    "duration": 12,
    "start_time": "2025-01-08T22:04:32.972Z"
   },
   {
    "duration": 8,
    "start_time": "2025-01-08T22:05:13.619Z"
   },
   {
    "duration": 17,
    "start_time": "2025-01-08T22:08:18.201Z"
   },
   {
    "duration": 208,
    "start_time": "2025-01-08T22:08:30.333Z"
   },
   {
    "duration": 7,
    "start_time": "2025-01-08T22:08:40.533Z"
   },
   {
    "duration": 5,
    "start_time": "2025-01-08T22:10:17.288Z"
   },
   {
    "duration": 4,
    "start_time": "2025-01-08T22:11:42.333Z"
   },
   {
    "duration": 49,
    "start_time": "2025-01-08T22:11:55.962Z"
   },
   {
    "duration": 8,
    "start_time": "2025-01-08T22:12:04.994Z"
   },
   {
    "duration": 7,
    "start_time": "2025-01-08T22:15:26.193Z"
   },
   {
    "duration": 7,
    "start_time": "2025-01-08T22:17:59.022Z"
   },
   {
    "duration": 157,
    "start_time": "2025-01-09T12:35:11.755Z"
   },
   {
    "duration": 783,
    "start_time": "2025-01-09T13:25:11.665Z"
   },
   {
    "duration": 3,
    "start_time": "2025-01-09T13:25:12.451Z"
   },
   {
    "duration": 78,
    "start_time": "2025-01-09T13:25:12.456Z"
   },
   {
    "duration": 62,
    "start_time": "2025-01-09T13:25:12.536Z"
   },
   {
    "duration": 145,
    "start_time": "2025-01-09T13:25:12.601Z"
   },
   {
    "duration": 1298,
    "start_time": "2025-01-09T13:25:12.748Z"
   },
   {
    "duration": 52,
    "start_time": "2025-01-09T13:25:14.047Z"
   },
   {
    "duration": 33,
    "start_time": "2025-01-09T13:25:14.100Z"
   },
   {
    "duration": 201,
    "start_time": "2025-01-09T13:25:14.134Z"
   },
   {
    "duration": 202,
    "start_time": "2025-01-09T13:25:14.337Z"
   },
   {
    "duration": 172,
    "start_time": "2025-01-09T13:25:14.541Z"
   },
   {
    "duration": 9,
    "start_time": "2025-01-09T13:25:14.715Z"
   },
   {
    "duration": 4,
    "start_time": "2025-01-09T13:25:14.732Z"
   },
   {
    "duration": 25,
    "start_time": "2025-01-09T13:25:14.740Z"
   },
   {
    "duration": 64,
    "start_time": "2025-01-09T13:25:14.767Z"
   },
   {
    "duration": 31,
    "start_time": "2025-01-09T13:25:14.833Z"
   },
   {
    "duration": 19,
    "start_time": "2025-01-09T13:25:14.866Z"
   },
   {
    "duration": 115,
    "start_time": "2025-01-09T13:25:14.887Z"
   },
   {
    "duration": 1982,
    "start_time": "2025-01-09T13:25:15.004Z"
   },
   {
    "duration": 47,
    "start_time": "2025-01-09T13:25:16.988Z"
   },
   {
    "duration": 49,
    "start_time": "2025-01-09T13:25:17.036Z"
   },
   {
    "duration": 4,
    "start_time": "2025-01-09T13:25:17.087Z"
   },
   {
    "duration": 3,
    "start_time": "2025-01-09T13:25:17.092Z"
   },
   {
    "duration": 34,
    "start_time": "2025-01-09T13:25:17.097Z"
   },
   {
    "duration": 285,
    "start_time": "2025-01-09T13:25:17.134Z"
   },
   {
    "duration": 30,
    "start_time": "2025-01-09T13:25:17.421Z"
   },
   {
    "duration": 345,
    "start_time": "2025-01-09T13:25:17.453Z"
   },
   {
    "duration": 252,
    "start_time": "2025-01-09T13:25:17.800Z"
   },
   {
    "duration": 379,
    "start_time": "2025-01-09T13:25:18.054Z"
   },
   {
    "duration": 215,
    "start_time": "2025-01-09T13:25:18.435Z"
   },
   {
    "duration": 63,
    "start_time": "2025-01-09T13:25:18.652Z"
   },
   {
    "duration": 54,
    "start_time": "2025-01-09T13:25:18.731Z"
   },
   {
    "duration": 26,
    "start_time": "2025-01-09T13:25:18.787Z"
   },
   {
    "duration": 123,
    "start_time": "2025-01-09T13:25:18.831Z"
   },
   {
    "duration": 1318,
    "start_time": "2025-01-09T13:25:18.956Z"
   },
   {
    "duration": 27,
    "start_time": "2025-01-09T13:25:20.276Z"
   },
   {
    "duration": 1435,
    "start_time": "2025-01-09T13:25:20.304Z"
   },
   {
    "duration": 319,
    "start_time": "2025-01-09T13:25:21.741Z"
   },
   {
    "duration": 426,
    "start_time": "2025-01-09T13:25:22.062Z"
   },
   {
    "duration": 410,
    "start_time": "2025-01-09T13:25:22.490Z"
   },
   {
    "duration": 0,
    "start_time": "2025-01-09T13:25:22.902Z"
   },
   {
    "duration": 26,
    "start_time": "2025-01-09T13:48:18.323Z"
   },
   {
    "duration": 374,
    "start_time": "2025-01-09T15:08:39.489Z"
   },
   {
    "duration": 4,
    "start_time": "2025-01-09T15:08:39.865Z"
   },
   {
    "duration": 76,
    "start_time": "2025-01-09T15:08:39.871Z"
   },
   {
    "duration": 51,
    "start_time": "2025-01-09T15:08:39.949Z"
   },
   {
    "duration": 129,
    "start_time": "2025-01-09T15:08:40.003Z"
   },
   {
    "duration": 1291,
    "start_time": "2025-01-09T15:08:40.134Z"
   },
   {
    "duration": 52,
    "start_time": "2025-01-09T15:08:41.427Z"
   },
   {
    "duration": 21,
    "start_time": "2025-01-09T15:08:41.481Z"
   },
   {
    "duration": 178,
    "start_time": "2025-01-09T15:08:41.504Z"
   },
   {
    "duration": 164,
    "start_time": "2025-01-09T15:08:41.684Z"
   },
   {
    "duration": 162,
    "start_time": "2025-01-09T15:08:41.850Z"
   },
   {
    "duration": 21,
    "start_time": "2025-01-09T15:08:42.014Z"
   },
   {
    "duration": 6,
    "start_time": "2025-01-09T15:08:42.037Z"
   },
   {
    "duration": 36,
    "start_time": "2025-01-09T15:08:42.047Z"
   },
   {
    "duration": 65,
    "start_time": "2025-01-09T15:08:42.085Z"
   },
   {
    "duration": 33,
    "start_time": "2025-01-09T15:08:42.152Z"
   },
   {
    "duration": 19,
    "start_time": "2025-01-09T15:08:42.187Z"
   },
   {
    "duration": 106,
    "start_time": "2025-01-09T15:08:42.208Z"
   },
   {
    "duration": 170,
    "start_time": "2025-01-09T15:08:42.317Z"
   },
   {
    "duration": 43,
    "start_time": "2025-01-09T15:08:42.488Z"
   },
   {
    "duration": 53,
    "start_time": "2025-01-09T15:08:42.533Z"
   },
   {
    "duration": 2,
    "start_time": "2025-01-09T15:08:42.588Z"
   },
   {
    "duration": 3,
    "start_time": "2025-01-09T15:08:42.592Z"
   },
   {
    "duration": 3,
    "start_time": "2025-01-09T15:08:42.597Z"
   },
   {
    "duration": 297,
    "start_time": "2025-01-09T15:08:42.602Z"
   },
   {
    "duration": 38,
    "start_time": "2025-01-09T15:08:42.900Z"
   },
   {
    "duration": 296,
    "start_time": "2025-01-09T15:08:42.940Z"
   },
   {
    "duration": 236,
    "start_time": "2025-01-09T15:08:43.237Z"
   },
   {
    "duration": 339,
    "start_time": "2025-01-09T15:08:43.474Z"
   },
   {
    "duration": 323,
    "start_time": "2025-01-09T15:08:43.815Z"
   },
   {
    "duration": 66,
    "start_time": "2025-01-09T15:08:44.140Z"
   },
   {
    "duration": 72,
    "start_time": "2025-01-09T15:08:44.207Z"
   },
   {
    "duration": 26,
    "start_time": "2025-01-09T15:08:44.281Z"
   },
   {
    "duration": 144,
    "start_time": "2025-01-09T15:08:44.308Z"
   },
   {
    "duration": 1289,
    "start_time": "2025-01-09T15:08:44.454Z"
   },
   {
    "duration": 27,
    "start_time": "2025-01-09T15:08:45.744Z"
   },
   {
    "duration": 1075,
    "start_time": "2025-01-09T15:08:45.772Z"
   },
   {
    "duration": 325,
    "start_time": "2025-01-09T15:08:46.849Z"
   },
   {
    "duration": 408,
    "start_time": "2025-01-09T15:08:47.176Z"
   },
   {
    "duration": 22,
    "start_time": "2025-01-09T15:08:47.586Z"
   },
   {
    "duration": 0,
    "start_time": "2025-01-09T15:08:47.610Z"
   },
   {
    "duration": 7,
    "start_time": "2025-01-09T15:09:02.684Z"
   },
   {
    "duration": 399,
    "start_time": "2025-01-09T15:12:01.743Z"
   },
   {
    "duration": 3,
    "start_time": "2025-01-09T15:12:02.143Z"
   },
   {
    "duration": 67,
    "start_time": "2025-01-09T15:12:02.149Z"
   },
   {
    "duration": 42,
    "start_time": "2025-01-09T15:12:02.232Z"
   },
   {
    "duration": 139,
    "start_time": "2025-01-09T15:12:02.276Z"
   },
   {
    "duration": 1206,
    "start_time": "2025-01-09T15:12:02.418Z"
   },
   {
    "duration": 57,
    "start_time": "2025-01-09T15:12:03.626Z"
   },
   {
    "duration": 21,
    "start_time": "2025-01-09T15:12:03.685Z"
   },
   {
    "duration": 183,
    "start_time": "2025-01-09T15:12:03.737Z"
   },
   {
    "duration": 189,
    "start_time": "2025-01-09T15:12:03.922Z"
   },
   {
    "duration": 163,
    "start_time": "2025-01-09T15:12:04.112Z"
   },
   {
    "duration": 9,
    "start_time": "2025-01-09T15:12:04.277Z"
   },
   {
    "duration": 5,
    "start_time": "2025-01-09T15:12:04.287Z"
   },
   {
    "duration": 45,
    "start_time": "2025-01-09T15:12:04.294Z"
   },
   {
    "duration": 47,
    "start_time": "2025-01-09T15:12:04.341Z"
   },
   {
    "duration": 46,
    "start_time": "2025-01-09T15:12:04.390Z"
   },
   {
    "duration": 20,
    "start_time": "2025-01-09T15:12:04.439Z"
   },
   {
    "duration": 106,
    "start_time": "2025-01-09T15:12:04.461Z"
   },
   {
    "duration": 159,
    "start_time": "2025-01-09T15:12:04.568Z"
   },
   {
    "duration": 40,
    "start_time": "2025-01-09T15:12:04.732Z"
   },
   {
    "duration": 63,
    "start_time": "2025-01-09T15:12:04.774Z"
   },
   {
    "duration": 4,
    "start_time": "2025-01-09T15:12:04.838Z"
   },
   {
    "duration": 3,
    "start_time": "2025-01-09T15:12:04.843Z"
   },
   {
    "duration": 3,
    "start_time": "2025-01-09T15:12:04.848Z"
   },
   {
    "duration": 295,
    "start_time": "2025-01-09T15:12:04.853Z"
   },
   {
    "duration": 29,
    "start_time": "2025-01-09T15:12:05.149Z"
   },
   {
    "duration": 314,
    "start_time": "2025-01-09T15:12:05.183Z"
   },
   {
    "duration": 240,
    "start_time": "2025-01-09T15:12:05.499Z"
   },
   {
    "duration": 296,
    "start_time": "2025-01-09T15:12:05.741Z"
   },
   {
    "duration": 206,
    "start_time": "2025-01-09T15:12:06.039Z"
   },
   {
    "duration": 72,
    "start_time": "2025-01-09T15:12:06.247Z"
   },
   {
    "duration": 65,
    "start_time": "2025-01-09T15:12:06.321Z"
   },
   {
    "duration": 27,
    "start_time": "2025-01-09T15:12:06.388Z"
   },
   {
    "duration": 119,
    "start_time": "2025-01-09T15:12:06.430Z"
   },
   {
    "duration": 1704,
    "start_time": "2025-01-09T15:12:06.550Z"
   },
   {
    "duration": 28,
    "start_time": "2025-01-09T15:12:08.255Z"
   },
   {
    "duration": 1071,
    "start_time": "2025-01-09T15:12:08.284Z"
   },
   {
    "duration": 332,
    "start_time": "2025-01-09T15:12:09.358Z"
   },
   {
    "duration": 407,
    "start_time": "2025-01-09T15:12:09.692Z"
   },
   {
    "duration": 111309,
    "start_time": "2025-01-09T15:12:10.100Z"
   },
   {
    "duration": 27,
    "start_time": "2025-01-09T15:14:01.411Z"
   },
   {
    "duration": 28,
    "start_time": "2025-01-09T15:18:03.908Z"
   },
   {
    "duration": 23,
    "start_time": "2025-01-09T15:18:29.882Z"
   },
   {
    "duration": 26,
    "start_time": "2025-01-09T15:18:56.559Z"
   },
   {
    "duration": 27,
    "start_time": "2025-01-09T15:19:14.278Z"
   },
   {
    "duration": 40,
    "start_time": "2025-01-09T15:24:59.656Z"
   },
   {
    "duration": 0,
    "start_time": "2025-01-09T15:32:26.978Z"
   },
   {
    "duration": 0,
    "start_time": "2025-01-09T15:32:26.979Z"
   },
   {
    "duration": 24,
    "start_time": "2025-01-09T15:33:54.081Z"
   },
   {
    "duration": 121657,
    "start_time": "2025-01-09T16:48:45.828Z"
   },
   {
    "duration": 0,
    "start_time": "2025-01-09T16:50:47.504Z"
   },
   {
    "duration": 5075,
    "start_time": "2025-01-09T16:52:46.211Z"
   },
   {
    "duration": 70606,
    "start_time": "2025-01-09T16:54:53.282Z"
   },
   {
    "duration": 24,
    "start_time": "2025-01-09T16:59:21.737Z"
   },
   {
    "duration": 122021,
    "start_time": "2025-01-09T16:59:46.628Z"
   },
   {
    "duration": 26,
    "start_time": "2025-01-09T17:05:43.819Z"
   },
   {
    "duration": 4,
    "start_time": "2025-01-09T17:06:29.460Z"
   },
   {
    "duration": 377,
    "start_time": "2025-01-09T17:06:49.292Z"
   },
   {
    "duration": 3,
    "start_time": "2025-01-09T17:06:49.671Z"
   },
   {
    "duration": 79,
    "start_time": "2025-01-09T17:06:49.676Z"
   },
   {
    "duration": 53,
    "start_time": "2025-01-09T17:06:49.759Z"
   },
   {
    "duration": 132,
    "start_time": "2025-01-09T17:06:49.814Z"
   },
   {
    "duration": 1268,
    "start_time": "2025-01-09T17:06:49.948Z"
   },
   {
    "duration": 68,
    "start_time": "2025-01-09T17:06:51.219Z"
   },
   {
    "duration": 42,
    "start_time": "2025-01-09T17:06:51.289Z"
   },
   {
    "duration": 186,
    "start_time": "2025-01-09T17:06:51.333Z"
   },
   {
    "duration": 201,
    "start_time": "2025-01-09T17:06:51.531Z"
   },
   {
    "duration": 171,
    "start_time": "2025-01-09T17:06:51.734Z"
   },
   {
    "duration": 9,
    "start_time": "2025-01-09T17:06:51.907Z"
   },
   {
    "duration": 17,
    "start_time": "2025-01-09T17:06:51.917Z"
   },
   {
    "duration": 30,
    "start_time": "2025-01-09T17:06:51.936Z"
   },
   {
    "duration": 69,
    "start_time": "2025-01-09T17:06:51.968Z"
   },
   {
    "duration": 32,
    "start_time": "2025-01-09T17:06:52.039Z"
   },
   {
    "duration": 21,
    "start_time": "2025-01-09T17:06:52.073Z"
   },
   {
    "duration": 122,
    "start_time": "2025-01-09T17:06:52.096Z"
   },
   {
    "duration": 163,
    "start_time": "2025-01-09T17:06:52.220Z"
   },
   {
    "duration": 49,
    "start_time": "2025-01-09T17:06:52.385Z"
   },
   {
    "duration": 53,
    "start_time": "2025-01-09T17:06:52.435Z"
   },
   {
    "duration": 4,
    "start_time": "2025-01-09T17:06:52.490Z"
   },
   {
    "duration": 8,
    "start_time": "2025-01-09T17:06:52.495Z"
   },
   {
    "duration": 26,
    "start_time": "2025-01-09T17:06:52.505Z"
   },
   {
    "duration": 272,
    "start_time": "2025-01-09T17:06:52.533Z"
   },
   {
    "duration": 37,
    "start_time": "2025-01-09T17:06:52.807Z"
   },
   {
    "duration": 300,
    "start_time": "2025-01-09T17:06:52.845Z"
   },
   {
    "duration": 246,
    "start_time": "2025-01-09T17:06:53.149Z"
   },
   {
    "duration": 339,
    "start_time": "2025-01-09T17:06:53.397Z"
   },
   {
    "duration": 207,
    "start_time": "2025-01-09T17:06:53.738Z"
   },
   {
    "duration": 70,
    "start_time": "2025-01-09T17:06:53.947Z"
   },
   {
    "duration": 78,
    "start_time": "2025-01-09T17:06:54.019Z"
   },
   {
    "duration": 48,
    "start_time": "2025-01-09T17:06:54.099Z"
   },
   {
    "duration": 133,
    "start_time": "2025-01-09T17:06:54.148Z"
   },
   {
    "duration": 1786,
    "start_time": "2025-01-09T17:06:54.283Z"
   },
   {
    "duration": 30,
    "start_time": "2025-01-09T17:06:56.071Z"
   },
   {
    "duration": 1107,
    "start_time": "2025-01-09T17:06:56.102Z"
   },
   {
    "duration": 347,
    "start_time": "2025-01-09T17:06:57.211Z"
   },
   {
    "duration": 437,
    "start_time": "2025-01-09T17:06:57.560Z"
   },
   {
    "duration": 122816,
    "start_time": "2025-01-09T17:06:57.999Z"
   },
   {
    "duration": 16,
    "start_time": "2025-01-09T17:09:00.831Z"
   },
   {
    "duration": 0,
    "start_time": "2025-01-09T17:09:00.848Z"
   },
   {
    "duration": 5,
    "start_time": "2025-01-09T17:09:43.624Z"
   },
   {
    "duration": 3,
    "start_time": "2025-01-09T17:12:07.307Z"
   },
   {
    "duration": 22,
    "start_time": "2025-01-09T17:12:44.565Z"
   },
   {
    "duration": 20,
    "start_time": "2025-01-09T17:13:20.078Z"
   },
   {
    "duration": 3349,
    "start_time": "2025-01-09T17:26:10.280Z"
   },
   {
    "duration": 26,
    "start_time": "2025-01-09T17:44:38.275Z"
   },
   {
    "duration": 125640,
    "start_time": "2025-01-09T17:52:15.697Z"
   },
   {
    "duration": 0,
    "start_time": "2025-01-09T17:54:21.355Z"
   },
   {
    "duration": 4,
    "start_time": "2025-01-09T17:54:56.706Z"
   },
   {
    "duration": 16,
    "start_time": "2025-01-09T17:56:12.748Z"
   },
   {
    "duration": 15,
    "start_time": "2025-01-09T17:56:32.426Z"
   },
   {
    "duration": 5080,
    "start_time": "2025-01-09T18:00:54.380Z"
   },
   {
    "duration": 5101,
    "start_time": "2025-01-09T18:02:02.118Z"
   },
   {
    "duration": 125274,
    "start_time": "2025-01-09T18:02:19.280Z"
   },
   {
    "duration": 31,
    "start_time": "2025-01-09T18:04:24.558Z"
   },
   {
    "duration": 3165,
    "start_time": "2025-01-09T18:07:34.475Z"
   },
   {
    "duration": 4977,
    "start_time": "2025-01-09T18:10:26.484Z"
   },
   {
    "duration": 50,
    "start_time": "2025-01-09T18:23:12.252Z"
   },
   {
    "duration": 4,
    "start_time": "2025-01-09T18:24:14.501Z"
   },
   {
    "duration": 9368,
    "start_time": "2025-01-09T18:25:00.503Z"
   },
   {
    "duration": 21,
    "start_time": "2025-01-09T18:50:09.257Z"
   },
   {
    "duration": 29,
    "start_time": "2025-01-09T22:07:58.664Z"
   },
   {
    "duration": 31,
    "start_time": "2025-01-09T22:08:23.318Z"
   },
   {
    "duration": 128037,
    "start_time": "2025-01-09T22:08:41.837Z"
   },
   {
    "duration": 5402,
    "start_time": "2025-01-09T22:12:23.554Z"
   },
   {
    "duration": 10,
    "start_time": "2025-01-09T22:12:51.058Z"
   }
  ],
  "kernelspec": {
   "display_name": "Python 3 (ipykernel)",
   "language": "python",
   "name": "python3"
  },
  "language_info": {
   "codemirror_mode": {
    "name": "ipython",
    "version": 3
   },
   "file_extension": ".py",
   "mimetype": "text/x-python",
   "name": "python",
   "nbconvert_exporter": "python",
   "pygments_lexer": "ipython3",
   "version": "3.9.19"
  },
  "toc": {
   "base_numbering": 1,
   "nav_menu": {},
   "number_sections": true,
   "sideBar": true,
   "skip_h1_title": true,
   "title_cell": "Table of Contents",
   "title_sidebar": "Contents",
   "toc_cell": false,
   "toc_position": {},
   "toc_section_display": true,
   "toc_window_display": false
  }
 },
 "nbformat": 4,
 "nbformat_minor": 2
}
